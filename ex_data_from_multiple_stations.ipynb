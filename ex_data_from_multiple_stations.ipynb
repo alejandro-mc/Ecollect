{
 "cells": [
  {
   "cell_type": "code",
   "execution_count": 2,
   "metadata": {
    "collapsed": false
   },
   "outputs": [],
   "source": [
    "from weatherdata_utils import WeatherStation\n",
    "import datetime as dt\n",
    "from time import sleep\n",
    "from pytz import reference\n",
    "from email.utils import parsedate_to_datetime"
   ]
  },
  {
   "cell_type": "code",
   "execution_count": 3,
   "metadata": {
    "collapsed": true
   },
   "outputs": [],
   "source": [
    "station_urls = [\"http://w1.weather.gov/xml/current_obs/KNYC.xml\",#Central Park\n",
    "                \"http://w1.weather.gov/xml/current_obs/KLGA.xml\",#La Guardia Airport\n",
    "                \"http://w1.weather.gov/xml/current_obs/KJRB.xml\",#Downtown Manhattan\n",
    "                \"http://w1.weather.gov/xml/current_obs/KJFK.xml\"]#JFK Airport"
   ]
  },
  {
   "cell_type": "code",
   "execution_count": 4,
   "metadata": {
    "collapsed": true
   },
   "outputs": [],
   "source": [
    "stations = [WeatherStation(station_url) for station_url in station_urls]"
   ]
  },
  {
   "cell_type": "code",
   "execution_count": 9,
   "metadata": {
    "collapsed": false
   },
   "outputs": [],
   "source": [
    "#update all the sations\n",
    "for station in stations:\n",
    "    station.update()"
   ]
  },
  {
   "cell_type": "code",
   "execution_count": 10,
   "metadata": {
    "collapsed": false
   },
   "outputs": [
    {
     "name": "stdout",
     "output_type": "stream",
     "text": [
      "81.0 58.0 1017.8 2017-06-29 14:51:00-04:00\n",
      "82.0 53.0 1018.3 2017-06-29 13:51:00-04:00\n",
      "82.0 55.0 1018.4 2017-06-29 18:56:00+00:00\n",
      "75.0 74.0 1019.1 2017-06-29 14:51:00-04:00\n"
     ]
    }
   ],
   "source": [
    "#show all the values temp,humidity,pressure for all the stations\n",
    "for st in stations:\n",
    "    print(st.temp(),st.humidity(),st.pressure(),st.time())"
   ]
  },
  {
   "cell_type": "code",
   "execution_count": null,
   "metadata": {
    "collapsed": true
   },
   "outputs": [],
   "source": [
    "#to combine all the parameters the simplest option could be to\n",
    "#average them but a weighted average based on distance may yield\n",
    "#more accurate results"
   ]
  },
  {
   "cell_type": "code",
   "execution_count": 11,
   "metadata": {
    "collapsed": false
   },
   "outputs": [
    {
     "name": "stdout",
     "output_type": "stream",
     "text": [
      "81.0 58.0 1017.8 2017-06-29 14:51:00-04:00\n",
      "data was not updated for station: http://w1.weather.gov/xml/current_obs/KLGA.xml\n",
      "82.0 53.0 1018.3 2017-06-29 13:51:00-04:00\n",
      "82.0 55.0 1018.4 2017-06-29 18:56:00+00:00\n",
      "75.0 74.0 1019.1 2017-06-29 14:51:00-04:00\n",
      "2017-06-29 19:04:06.749589+00:00 [80.0, 60.0, 1018.4]\n",
      "81.0 58.0 1017.8 2017-06-29 14:51:00-04:00\n",
      "data was not updated for station: http://w1.weather.gov/xml/current_obs/KLGA.xml\n",
      "82.0 53.0 1018.3 2017-06-29 13:51:00-04:00\n",
      "82.0 55.0 1018.4 2017-06-29 18:56:00+00:00\n",
      "75.0 74.0 1019.1 2017-06-29 14:51:00-04:00\n",
      "2017-06-29 19:04:10.750014+00:00 [80.0, 60.0, 1018.4]\n",
      "81.0 58.0 1017.8 2017-06-29 14:51:00-04:00\n",
      "data was not updated for station: http://w1.weather.gov/xml/current_obs/KLGA.xml\n",
      "82.0 53.0 1018.3 2017-06-29 13:51:00-04:00\n",
      "82.0 55.0 1018.4 2017-06-29 18:56:00+00:00\n",
      "75.0 74.0 1019.1 2017-06-29 14:51:00-04:00\n",
      "2017-06-29 19:04:14.750960+00:00 [80.0, 60.0, 1018.4]\n",
      "81.0 58.0 1017.8 2017-06-29 14:51:00-04:00\n",
      "data was not updated for station: http://w1.weather.gov/xml/current_obs/KLGA.xml\n",
      "82.0 53.0 1018.3 2017-06-29 13:51:00-04:00\n",
      "82.0 55.0 1018.4 2017-06-29 18:56:00+00:00\n",
      "75.0 74.0 1019.1 2017-06-29 14:51:00-04:00\n",
      "2017-06-29 19:04:18.751808+00:00 [80.0, 60.0, 1018.4]\n",
      "81.0 58.0 1017.8 2017-06-29 14:51:00-04:00\n",
      "data was not updated for station: http://w1.weather.gov/xml/current_obs/KLGA.xml\n",
      "82.0 53.0 1018.3 2017-06-29 13:51:00-04:00\n",
      "82.0 55.0 1018.4 2017-06-29 18:56:00+00:00\n",
      "75.0 74.0 1019.1 2017-06-29 14:51:00-04:00\n",
      "2017-06-29 19:04:22.752770+00:00 [80.0, 60.0, 1018.4]\n",
      "81.0 58.0 1017.8 2017-06-29 14:51:00-04:00\n",
      "data was not updated for station: http://w1.weather.gov/xml/current_obs/KLGA.xml\n",
      "82.0 53.0 1018.3 2017-06-29 13:51:00-04:00\n",
      "82.0 55.0 1018.4 2017-06-29 18:56:00+00:00\n",
      "75.0 74.0 1019.1 2017-06-29 14:51:00-04:00\n",
      "2017-06-29 19:04:26.753321+00:00 [80.0, 60.0, 1018.4]\n",
      "81.0 58.0 1017.8 2017-06-29 14:51:00-04:00\n",
      "data was not updated for station: http://w1.weather.gov/xml/current_obs/KLGA.xml\n",
      "82.0 53.0 1018.3 2017-06-29 13:51:00-04:00\n",
      "82.0 55.0 1018.4 2017-06-29 18:56:00+00:00\n",
      "75.0 74.0 1019.1 2017-06-29 14:51:00-04:00\n",
      "2017-06-29 19:04:30.753496+00:00 [80.0, 60.0, 1018.4]\n",
      "81.0 58.0 1017.8 2017-06-29 14:51:00-04:00\n",
      "data was not updated for station: http://w1.weather.gov/xml/current_obs/KLGA.xml\n",
      "82.0 53.0 1018.3 2017-06-29 13:51:00-04:00\n",
      "82.0 55.0 1018.4 2017-06-29 18:56:00+00:00\n",
      "75.0 74.0 1019.1 2017-06-29 14:51:00-04:00\n",
      "2017-06-29 19:04:34.753901+00:00 [80.0, 60.0, 1018.4]\n",
      "81.0 58.0 1017.8 2017-06-29 14:51:00-04:00\n",
      "data was not updated for station: http://w1.weather.gov/xml/current_obs/KLGA.xml\n",
      "82.0 53.0 1018.3 2017-06-29 13:51:00-04:00\n",
      "82.0 55.0 1018.4 2017-06-29 18:56:00+00:00\n",
      "75.0 74.0 1019.1 2017-06-29 14:51:00-04:00\n",
      "2017-06-29 19:04:38.754705+00:00 [80.0, 60.0, 1018.4]\n",
      "81.0 58.0 1017.8 2017-06-29 14:51:00-04:00\n",
      "data was not updated for station: http://w1.weather.gov/xml/current_obs/KLGA.xml\n",
      "82.0 53.0 1018.3 2017-06-29 13:51:00-04:00\n",
      "82.0 55.0 1018.4 2017-06-29 18:56:00+00:00\n",
      "75.0 74.0 1019.1 2017-06-29 14:51:00-04:00\n",
      "2017-06-29 19:04:42.755830+00:00 [80.0, 60.0, 1018.4]\n",
      "81.0 58.0 1017.8 2017-06-29 14:51:00-04:00\n",
      "data was not updated for station: http://w1.weather.gov/xml/current_obs/KLGA.xml\n",
      "82.0 53.0 1018.3 2017-06-29 13:51:00-04:00\n",
      "82.0 55.0 1018.4 2017-06-29 18:56:00+00:00\n",
      "75.0 74.0 1019.1 2017-06-29 14:51:00-04:00\n",
      "2017-06-29 19:04:46.756264+00:00 [80.0, 60.0, 1018.4]\n",
      "81.0 58.0 1017.8 2017-06-29 14:51:00-04:00\n",
      "data was not updated for station: http://w1.weather.gov/xml/current_obs/KLGA.xml\n",
      "82.0 53.0 1018.3 2017-06-29 13:51:00-04:00\n",
      "82.0 55.0 1018.4 2017-06-29 18:56:00+00:00\n",
      "75.0 74.0 1019.1 2017-06-29 14:51:00-04:00\n",
      "2017-06-29 19:04:50.756789+00:00 [80.0, 60.0, 1018.4]\n",
      "81.0 58.0 1017.8 2017-06-29 14:51:00-04:00\n",
      "data was not updated for station: http://w1.weather.gov/xml/current_obs/KLGA.xml\n",
      "82.0 53.0 1018.3 2017-06-29 13:51:00-04:00\n",
      "82.0 55.0 1018.4 2017-06-29 18:56:00+00:00\n",
      "75.0 74.0 1019.1 2017-06-29 14:51:00-04:00\n",
      "2017-06-29 19:04:54.757653+00:00 [80.0, 60.0, 1018.4]\n",
      "81.0 58.0 1017.8 2017-06-29 14:51:00-04:00\n",
      "data was not updated for station: http://w1.weather.gov/xml/current_obs/KLGA.xml\n",
      "82.0 53.0 1018.3 2017-06-29 13:51:00-04:00\n",
      "82.0 55.0 1018.4 2017-06-29 18:56:00+00:00\n",
      "75.0 74.0 1019.1 2017-06-29 14:51:00-04:00\n",
      "2017-06-29 19:04:58.758285+00:00 [80.0, 60.0, 1018.4]\n",
      "81.0 58.0 1017.8 2017-06-29 14:51:00-04:00\n",
      "data was not updated for station: http://w1.weather.gov/xml/current_obs/KLGA.xml\n",
      "82.0 53.0 1018.3 2017-06-29 13:51:00-04:00\n",
      "82.0 55.0 1018.4 2017-06-29 18:56:00+00:00\n",
      "75.0 74.0 1019.1 2017-06-29 14:51:00-04:00\n",
      "2017-06-29 19:05:02.758870+00:00 [80.0, 60.0, 1018.4]\n",
      "81.0 58.0 1017.8 2017-06-29 14:51:00-04:00\n",
      "data was not updated for station: http://w1.weather.gov/xml/current_obs/KLGA.xml\n",
      "82.0 53.0 1018.3 2017-06-29 13:51:00-04:00\n",
      "82.0 55.0 1018.4 2017-06-29 18:56:00+00:00\n",
      "75.0 74.0 1019.1 2017-06-29 14:51:00-04:00\n",
      "2017-06-29 19:05:06.758952+00:00 [80.0, 60.0, 1018.4]\n",
      "81.0 58.0 1017.8 2017-06-29 14:51:00-04:00\n",
      "data was not updated for station: http://w1.weather.gov/xml/current_obs/KLGA.xml\n",
      "82.0 53.0 1018.3 2017-06-29 13:51:00-04:00\n",
      "82.0 55.0 1018.4 2017-06-29 18:56:00+00:00\n",
      "75.0 74.0 1019.1 2017-06-29 14:51:00-04:00\n",
      "2017-06-29 19:05:10.759061+00:00 [80.0, 60.0, 1018.4]\n",
      "81.0 58.0 1017.8 2017-06-29 14:51:00-04:00\n",
      "data was not updated for station: http://w1.weather.gov/xml/current_obs/KLGA.xml\n",
      "82.0 53.0 1018.3 2017-06-29 13:51:00-04:00\n",
      "82.0 55.0 1018.4 2017-06-29 18:56:00+00:00\n",
      "75.0 74.0 1019.1 2017-06-29 14:51:00-04:00\n",
      "2017-06-29 19:05:14.760336+00:00 [80.0, 60.0, 1018.4]\n",
      "81.0 58.0 1017.8 2017-06-29 14:51:00-04:00\n",
      "data was not updated for station: http://w1.weather.gov/xml/current_obs/KLGA.xml\n",
      "82.0 53.0 1018.3 2017-06-29 13:51:00-04:00\n",
      "82.0 55.0 1018.4 2017-06-29 18:56:00+00:00\n",
      "75.0 74.0 1019.1 2017-06-29 14:51:00-04:00\n",
      "2017-06-29 19:05:18.761560+00:00 [80.0, 60.0, 1018.4]\n",
      "81.0 58.0 1017.8 2017-06-29 14:51:00-04:00\n",
      "data was not updated for station: http://w1.weather.gov/xml/current_obs/KLGA.xml\n",
      "82.0 53.0 1018.3 2017-06-29 13:51:00-04:00\n",
      "82.0 55.0 1018.4 2017-06-29 18:56:00+00:00\n",
      "75.0 74.0 1019.1 2017-06-29 14:51:00-04:00\n",
      "2017-06-29 19:05:22.761698+00:00 [80.0, 60.0, 1018.4]\n",
      "81.0 58.0 1017.8 2017-06-29 14:51:00-04:00\n",
      "data was not updated for station: http://w1.weather.gov/xml/current_obs/KLGA.xml\n",
      "82.0 53.0 1018.3 2017-06-29 13:51:00-04:00\n",
      "82.0 55.0 1018.4 2017-06-29 18:56:00+00:00\n",
      "75.0 74.0 1019.1 2017-06-29 14:51:00-04:00\n",
      "2017-06-29 19:05:26.762582+00:00 [80.0, 60.0, 1018.4]\n",
      "81.0 58.0 1017.8 2017-06-29 14:51:00-04:00\n",
      "data was not updated for station: http://w1.weather.gov/xml/current_obs/KLGA.xml\n",
      "82.0 53.0 1018.3 2017-06-29 13:51:00-04:00\n",
      "82.0 55.0 1018.4 2017-06-29 18:56:00+00:00\n",
      "75.0 74.0 1019.1 2017-06-29 14:51:00-04:00\n",
      "2017-06-29 19:05:30.763025+00:00 [80.0, 60.0, 1018.4]\n",
      "81.0 58.0 1017.8 2017-06-29 14:51:00-04:00\n",
      "data was not updated for station: http://w1.weather.gov/xml/current_obs/KLGA.xml\n",
      "82.0 53.0 1018.3 2017-06-29 13:51:00-04:00\n",
      "82.0 55.0 1018.4 2017-06-29 18:56:00+00:00\n",
      "75.0 74.0 1019.1 2017-06-29 14:51:00-04:00\n",
      "2017-06-29 19:05:34.764453+00:00 [80.0, 60.0, 1018.4]\n",
      "81.0 58.0 1017.8 2017-06-29 14:51:00-04:00\n",
      "data was not updated for station: http://w1.weather.gov/xml/current_obs/KLGA.xml\n",
      "82.0 53.0 1018.3 2017-06-29 13:51:00-04:00\n",
      "82.0 55.0 1018.4 2017-06-29 18:56:00+00:00\n",
      "75.0 74.0 1019.1 2017-06-29 14:51:00-04:00\n",
      "2017-06-29 19:05:38.765467+00:00 [80.0, 60.0, 1018.4]\n"
     ]
    }
   ],
   "source": [
    "#update every hour\n",
    "for i in range(24):\n",
    "    for st in stations:\n",
    "        #check that station reading has been updated not longer than an hour ago \n",
    "        if (dt.datetime.now(dt.timezone.utc) - st.time()).total_seconds() > 60*60:\n",
    "            print('data was not updated for station:',st.__url__)\n",
    "            \n",
    "        print(st.temp(),st.humidity(),st.pressure(),st.time())\n",
    "    \n",
    "    #average times\n",
    "    cumparams=[0,0,0]\n",
    "    total_stations = 0\n",
    "    for st in stations:\n",
    "        cumparams = [new+old for new,old in zip(cumparams,(st.temp(),st.humidity(),st.pressure()))]\n",
    "        total_stations += 1\n",
    "    \n",
    "    avgparams = [x/total_stations for x in cumparams]\n",
    "    print(dt.datetime.now(dt.timezone.utc),avgparams)\n",
    "    \n",
    "    #or write to different files instead\n",
    "    \n",
    "    \n",
    "    sleep(4)\n"
   ]
  },
  {
   "cell_type": "code",
   "execution_count": 41,
   "metadata": {
    "collapsed": false
   },
   "outputs": [
    {
     "data": {
      "text/plain": [
       "datetime.datetime(2017, 6, 28, 16, 59, 8, 269415, tzinfo=datetime.timezone.utc)"
      ]
     },
     "execution_count": 41,
     "metadata": {},
     "output_type": "execute_result"
    }
   ],
   "source": [
    "dt.datetime.now(dt.timezone.utc)"
   ]
  },
  {
   "cell_type": "code",
   "execution_count": 30,
   "metadata": {
    "collapsed": false
   },
   "outputs": [
    {
     "data": {
      "text/plain": [
       "['__class__',\n",
       " '__delattr__',\n",
       " '__dict__',\n",
       " '__dir__',\n",
       " '__doc__',\n",
       " '__eq__',\n",
       " '__format__',\n",
       " '__ge__',\n",
       " '__getattribute__',\n",
       " '__gt__',\n",
       " '__hash__',\n",
       " '__init__',\n",
       " '__le__',\n",
       " '__lt__',\n",
       " '__module__',\n",
       " '__ne__',\n",
       " '__new__',\n",
       " '__reduce__',\n",
       " '__reduce_ex__',\n",
       " '__repr__',\n",
       " '__setattr__',\n",
       " '__sizeof__',\n",
       " '__str__',\n",
       " '__subclasshook__',\n",
       " '__weakref__',\n",
       " '_isdst',\n",
       " 'dst',\n",
       " 'fromutc',\n",
       " 'tzname',\n",
       " 'utcoffset']"
      ]
     },
     "execution_count": 30,
     "metadata": {},
     "output_type": "execute_result"
    }
   ],
   "source": [
    "dir(reference.LocalTimezone())"
   ]
  },
  {
   "cell_type": "code",
   "execution_count": null,
   "metadata": {
    "collapsed": false
   },
   "outputs": [],
   "source": [
    "tm = parsedate_to_datetime('Tue, 27 Jun 2017 10:00:00 -0400')\n",
    "tm2 = parsedate_to_datetime('Tue, 27 Jun 2017 10:00:00 -0400')"
   ]
  },
  {
   "cell_type": "code",
   "execution_count": null,
   "metadata": {
    "collapsed": false
   },
   "outputs": [],
   "source": [
    "(tm-tm2).total_seconds()"
   ]
  },
  {
   "cell_type": "code",
   "execution_count": null,
   "metadata": {
    "collapsed": true
   },
   "outputs": [],
   "source": []
  }
 ],
 "metadata": {
  "kernelspec": {
   "display_name": "Python 3",
   "language": "python",
   "name": "python3"
  },
  "language_info": {
   "codemirror_mode": {
    "name": "ipython",
    "version": 3
   },
   "file_extension": ".py",
   "mimetype": "text/x-python",
   "name": "python",
   "nbconvert_exporter": "python",
   "pygments_lexer": "ipython3",
   "version": "3.5.2"
  }
 },
 "nbformat": 4,
 "nbformat_minor": 0
}
