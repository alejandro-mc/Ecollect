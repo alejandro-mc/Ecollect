{
 "cells": [
  {
   "cell_type": "code",
   "execution_count": 1,
   "metadata": {
    "collapsed": false
   },
   "outputs": [],
   "source": [
    "from weatherdata_utils import WeatherStation\n",
    "import datetime as dt\n",
    "from time import sleep\n",
    "from pytz import reference\n",
    "from email.utils import parsedate_to_datetime"
   ]
  },
  {
   "cell_type": "code",
   "execution_count": 2,
   "metadata": {
    "collapsed": true
   },
   "outputs": [],
   "source": [
    "station_urls = [\"http://w1.weather.gov/xml/current_obs/KNYC.xml\",#Central Park\n",
    "                \"http://w1.weather.gov/xml/current_obs/KLGA.xml\",#La Guardia Airport\n",
    "                \"http://w1.weather.gov/xml/current_obs/KJRB.xml\",#Downtown Manhattan\n",
    "                \"http://w1.weather.gov/xml/current_obs/KJFK.xml\"]#JFK Airport"
   ]
  },
  {
   "cell_type": "code",
   "execution_count": 3,
   "metadata": {
    "collapsed": true
   },
   "outputs": [],
   "source": [
    "stations = [WeatherStation(station_url) for station_url in station_urls]"
   ]
  },
  {
   "cell_type": "code",
   "execution_count": null,
   "metadata": {
    "collapsed": true
   },
   "outputs": [],
   "source": []
  },
  {
   "cell_type": "code",
   "execution_count": 4,
   "metadata": {
    "collapsed": false
   },
   "outputs": [],
   "source": [
    "#update all the sations\n",
    "for station in stations:\n",
    "    station.update()"
   ]
  },
  {
   "cell_type": "code",
   "execution_count": 5,
   "metadata": {
    "collapsed": false
   },
   "outputs": [
    {
     "name": "stdout",
     "output_type": "stream",
     "text": [
      "2017-07-10 13:51:00-04:00 KNYC 83.0 49.0 1017.2\n",
      "2017-07-10 13:51:00-04:00 KLGA 85.0 45.0 1017.2\n",
      "2017-07-10 17:55:00+00:00 KJRB 86.0 46.0 1030.1\n",
      "2017-07-10 13:51:00-04:00 KJFK 82.0 69.0 1018.3\n"
     ]
    }
   ],
   "source": [
    "#show all the values temp,humidity,pressure for all the stations\n",
    "for st in stations:\n",
    "    print(st.time(),st.ID(),st.temp(),st.humidity(),st.pressure())"
   ]
  },
  {
   "cell_type": "code",
   "execution_count": null,
   "metadata": {
    "collapsed": true
   },
   "outputs": [],
   "source": [
    "#to combine all the parameters the simplest option could be to\n",
    "#average them but a weighted average based on distance may yield\n",
    "#more accurate results"
   ]
  },
  {
   "cell_type": "code",
   "execution_count": null,
   "metadata": {
    "collapsed": false
   },
   "outputs": [],
   "source": [
    "#check for new data every 15 minutes\n",
    "while True:\n",
    "    for st in stations:\n",
    "        \n",
    "        st.update()\n",
    "        \n",
    "        #check weather the sation's data was updated within the past 15 minutes\n",
    "        if (dt.datetime.now(dt.timezone.utc) - st.time()).total_seconds() < 15*60:\n",
    "            print('station was updated:',st.__url__)\n",
    "            print(st.time(),st.ID(),st.temp(),st.humidity(),st.pressure())\n",
    "    \n",
    "    \n",
    "    sleep(15*60)\n"
   ]
  },
  {
   "cell_type": "code",
   "execution_count": 41,
   "metadata": {
    "collapsed": false
   },
   "outputs": [
    {
     "data": {
      "text/plain": [
       "datetime.datetime(2017, 6, 28, 16, 59, 8, 269415, tzinfo=datetime.timezone.utc)"
      ]
     },
     "execution_count": 41,
     "metadata": {},
     "output_type": "execute_result"
    }
   ],
   "source": [
    "dt.datetime.now(dt.timezone.utc)"
   ]
  },
  {
   "cell_type": "code",
   "execution_count": 30,
   "metadata": {
    "collapsed": false
   },
   "outputs": [
    {
     "data": {
      "text/plain": [
       "['__class__',\n",
       " '__delattr__',\n",
       " '__dict__',\n",
       " '__dir__',\n",
       " '__doc__',\n",
       " '__eq__',\n",
       " '__format__',\n",
       " '__ge__',\n",
       " '__getattribute__',\n",
       " '__gt__',\n",
       " '__hash__',\n",
       " '__init__',\n",
       " '__le__',\n",
       " '__lt__',\n",
       " '__module__',\n",
       " '__ne__',\n",
       " '__new__',\n",
       " '__reduce__',\n",
       " '__reduce_ex__',\n",
       " '__repr__',\n",
       " '__setattr__',\n",
       " '__sizeof__',\n",
       " '__str__',\n",
       " '__subclasshook__',\n",
       " '__weakref__',\n",
       " '_isdst',\n",
       " 'dst',\n",
       " 'fromutc',\n",
       " 'tzname',\n",
       " 'utcoffset']"
      ]
     },
     "execution_count": 30,
     "metadata": {},
     "output_type": "execute_result"
    }
   ],
   "source": [
    "dir(reference.LocalTimezone())"
   ]
  },
  {
   "cell_type": "code",
   "execution_count": null,
   "metadata": {
    "collapsed": false
   },
   "outputs": [],
   "source": [
    "tm = parsedate_to_datetime('Tue, 27 Jun 2017 10:00:00 -0400')\n",
    "tm2 = parsedate_to_datetime('Tue, 27 Jun 2017 10:00:00 -0400')"
   ]
  },
  {
   "cell_type": "code",
   "execution_count": null,
   "metadata": {
    "collapsed": false
   },
   "outputs": [],
   "source": [
    "(tm-tm2).total_seconds()"
   ]
  },
  {
   "cell_type": "code",
   "execution_count": null,
   "metadata": {
    "collapsed": true
   },
   "outputs": [],
   "source": [
    "#check for new data every 15 minutes\n",
    "while True:\n",
    "    for st in stations:\n",
    "        \n",
    "        st.update()\n",
    "        \n",
    "        #check weather the sation's data was updated within the last 15 minutes\n",
    "        if (dt.datetime.now(dt.timezone.utc) - st.time()).total_seconds() < 15*60:\n",
    "            print('station was updated:',st.__url__)\n",
    "            print(st.temp(),st.humidity(),st.pressure(),st.time())\n",
    "    \n",
    "    \n",
    "    #average times\n",
    "    #cumparams=[0,0,0]\n",
    "    #total_stations = 0\n",
    "    #for st in stations:\n",
    "    #    cumparams = [new+old for new,old in zip(cumparams,(st.temp(),st.humidity(),st.pressure()))]\n",
    "    #    total_stations += 1\n",
    "    \n",
    "    #avgparams = [x/total_stations for x in cumparams]\n",
    "    #print(dt.datetime.now(dt.timezone.utc),avgparams)\n",
    "    \n",
    "    #or write to different files instead\n",
    "    \n",
    "    \n",
    "    sleep(15*60)"
   ]
  },
  {
   "cell_type": "code",
   "execution_count": null,
   "metadata": {
    "collapsed": true
   },
   "outputs": [],
   "source": [
    "print('hello world')"
   ]
  },
  {
   "cell_type": "code",
   "execution_count": null,
   "metadata": {
    "collapsed": true
   },
   "outputs": [],
   "source": []
  }
 ],
 "metadata": {
  "kernelspec": {
   "display_name": "Python 3",
   "language": "python",
   "name": "python3"
  },
  "language_info": {
   "codemirror_mode": {
    "name": "ipython",
    "version": 3
   },
   "file_extension": ".py",
   "mimetype": "text/x-python",
   "name": "python",
   "nbconvert_exporter": "python",
   "pygments_lexer": "ipython3",
   "version": "3.5.2"
  }
 },
 "nbformat": 4,
 "nbformat_minor": 0
}
