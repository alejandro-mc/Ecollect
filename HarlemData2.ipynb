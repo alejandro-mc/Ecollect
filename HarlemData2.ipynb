{
 "cells": [
  {
   "cell_type": "code",
   "execution_count": 1,
   "metadata": {
    "collapsed": true
   },
   "outputs": [],
   "source": [
    "import math\n",
    "import numpy as np\n",
    "import pandas as pd\n",
    "import matplotlib as mpl\n",
    "import matplotlib.pyplot as plt\n",
    "\n",
    "from scipy import linspace, polyval, polyfit, sqrt, stats, randn\n",
    "from sklearn import datasets, linear_model\n",
    "%matplotlib inline"
   ]
  },
  {
   "cell_type": "code",
   "execution_count": 2,
   "metadata": {
    "collapsed": false
   },
   "outputs": [],
   "source": [
    "# Import sensor data indexed by Timestamp\n",
    "sensor_df = pd.read_csv('HHtest.txt', names = [\"Sensor\", \"Seconds\", \"Timestamp\", \"Temp\", \"Rel Humid\", \"Voltage\"],\n",
    "                        index_col = ['Timestamp'], parse_dates = [\"Timestamp\"])\n",
    "# Delete unneeded columns\n",
    "sensor_df.drop(['Sensor','Seconds','Rel Humid', 'Voltage'], axis = 1, inplace = True)\n",
    "\n",
    "#sensor_df[:3]"
   ]
  },
  {
   "cell_type": "code",
   "execution_count": 3,
   "metadata": {
    "collapsed": false
   },
   "outputs": [],
   "source": [
    "# Resample for every 30 minutes and name according to midpoint\n",
    "sensor_df = sensor_df.resample('30T', loffset = '-15 min').mean()\n",
    "#sensor_df.head"
   ]
  },
  {
   "cell_type": "code",
   "execution_count": 4,
   "metadata": {
    "collapsed": false
   },
   "outputs": [],
   "source": [
    "# Import sensor data indexed by Timestamp\n",
    "LGA_df = pd.read_csv('KLGA.csv', names = [\"Timestamp\", \"Temp\", \"Rel Humid\"], index_col = ['Timestamp'], parse_dates = [\"Timestamp\"])\n",
    "\n",
    "# Delete unneeded columns\n",
    "LGA_df.drop(['Rel Humid'], axis = 1, inplace = True)\n",
    "\n",
    "#LGA_df.head"
   ]
  },
  {
   "cell_type": "code",
   "execution_count": 5,
   "metadata": {
    "collapsed": false
   },
   "outputs": [],
   "source": [
    "# Resample for every 30 minutes and name according to midpoint\n",
    "LGA_df = LGA_df.resample('30T', loffset = '-15 min').mean()\n",
    "#LGA_df[:3]"
   ]
  },
  {
   "cell_type": "code",
   "execution_count": 6,
   "metadata": {
    "collapsed": false
   },
   "outputs": [],
   "source": [
    "# Join df together for all timestamps that exist in both files\n",
    "joined_df = LGA_df.join(sensor_df, how = 'inner', lsuffix = '_LGA', rsuffix = '_sensor')\n",
    "joined_df = joined_df.dropna() # drop NaN values **Are the values in order? Do we need to interpolate between the values?\n",
    "#joined_df[:3]"
   ]
  },
  {
   "cell_type": "code",
   "execution_count": 7,
   "metadata": {
    "collapsed": true
   },
   "outputs": [],
   "source": [
    "def find_T_building(temp_3day):\n",
    "    #Input first three days of the dataframe of indoor temp data. Computes one Temperature data\n",
    "    #point (T_building) given data points from the three previous days (temp_3day) \n",
    "    #by assigning a weight to each data point and adding them up\n",
    "    \n",
    "    T_building = 0\n",
    "    tau = 12.0 # decay constant in hours\n",
    "    for i in range(len(temp_3day)):\n",
    "        time_in_hours = 72 - (0.5*i) # each dp is a 0.5 hours\n",
    "        temp_i = temp_3day[i]\n",
    "        weight_i = math.exp(-time_in_hours/tau)\n",
    "        T_building += temp_i * weight_i\n",
    "    return T_building"
   ]
  },
  {
   "cell_type": "code",
   "execution_count": 11,
   "metadata": {
    "collapsed": false
   },
   "outputs": [],
   "source": [
    "#temp_sens_array = np.array(joined_df['Temp_sensor'])\n",
    "temp_sens = joined_df['Temp_sensor']\n",
    "\n",
    "def create_T_building_series(temp_sens):\n",
    "    T_building_list = []\n",
    "    T_building_index = []\n",
    "    dt = pd.DateOffset(days = 3) # 3 days    \n",
    "\n",
    "    for j in range(144,len(temp_sens)): \n",
    "        #144 points in the first 3 days (because 72 hours * 2 dp/hr)\n",
    "        Timestamp_j = temp_sens.index[j]\n",
    "        temp_3day = temp_sens[Timestamp_j-dt :Timestamp_j]\n",
    "        T_building = find_T_building(temp_3day)\n",
    "        T_building_list.append(T_building)\n",
    "        T_building_index.append(Timestamp_j)\n",
    "    \n",
    "    return pd.Series(T_building_list, index = T_building_index)\n"
   ]
  },
  {
   "cell_type": "code",
   "execution_count": 12,
   "metadata": {
    "collapsed": false
   },
   "outputs": [
    {
     "name": "stdout",
     "output_type": "stream",
     "text": [
      "CPU times: user 3 µs, sys: 1 µs, total: 4 µs\n",
      "Wall time: 6.2 µs\n"
     ]
    },
    {
     "data": {
      "text/plain": [
       "2016-07-11 19:45:00     293.039409\n",
       "2016-07-11 20:15:00     305.637933\n",
       "2016-07-11 20:45:00     318.772485\n",
       "2016-07-11 21:15:00     332.465872\n",
       "2016-07-11 21:45:00     346.741869\n",
       "2016-07-11 22:15:00     361.625267\n",
       "2016-07-11 22:45:00     377.141907\n",
       "2016-07-11 23:15:00     393.318732\n",
       "2016-07-11 23:45:00     410.183831\n",
       "2016-07-12 00:15:00     427.726324\n",
       "2016-07-12 00:45:00     446.057068\n",
       "2016-07-12 01:15:00     465.167729\n",
       "2016-07-12 01:45:00     485.091489\n",
       "2016-07-12 02:15:00     505.862944\n",
       "2016-07-12 02:45:00     527.518159\n",
       "2016-07-12 03:15:00     550.094737\n",
       "2016-07-12 03:45:00     573.631879\n",
       "2016-07-12 04:15:00     598.142426\n",
       "2016-07-12 04:45:00     623.666603\n",
       "2016-07-12 05:15:00     650.276755\n",
       "2016-07-12 05:45:00     678.019086\n",
       "2016-07-12 06:15:00     706.941768\n",
       "2016-07-12 06:45:00     737.095020\n",
       "2016-07-12 07:15:00     768.531200\n",
       "2016-07-12 07:45:00     801.267375\n",
       "2016-07-12 08:15:00     835.357258\n",
       "2016-07-12 08:45:00     870.897561\n",
       "2016-07-12 09:15:00     907.949993\n",
       "2016-07-12 09:45:00     946.667535\n",
       "2016-07-12 10:15:00     987.032389\n",
       "                          ...     \n",
       "2016-09-14 22:15:00    1929.805670\n",
       "2016-09-14 22:45:00    1930.104623\n",
       "2016-09-14 23:15:00    1930.391376\n",
       "2016-09-14 23:45:00    1930.666426\n",
       "2016-09-15 00:15:00    1930.840251\n",
       "2016-09-15 00:45:00    1931.006983\n",
       "2016-09-15 01:15:00    1931.167338\n",
       "2016-09-15 01:45:00    1931.141362\n",
       "2016-09-15 02:15:00    1931.116661\n",
       "2016-09-15 02:45:00    1931.092968\n",
       "2016-09-15 03:15:00    1931.070242\n",
       "2016-09-15 03:45:00    1931.048657\n",
       "2016-09-15 04:15:00    1930.938167\n",
       "2016-09-15 04:45:00    1930.742186\n",
       "2016-09-15 05:15:00    1930.554418\n",
       "2016-09-15 05:45:00    1930.374312\n",
       "2016-09-15 06:15:00    1930.201984\n",
       "2016-09-15 06:45:00    1930.036690\n",
       "2016-09-15 07:15:00    1929.429424\n",
       "2016-09-15 07:45:00    1928.757156\n",
       "2016-09-15 08:15:00    1927.932324\n",
       "2016-09-15 08:45:00    1927.141153\n",
       "2016-09-15 09:15:00    1926.292698\n",
       "2016-09-15 09:45:00    1925.568869\n",
       "2016-09-15 10:15:00    1924.515008\n",
       "2016-09-15 10:45:00    1923.144156\n",
       "2016-09-15 11:15:00    1922.009677\n",
       "2016-09-15 11:45:00    1920.561710\n",
       "2016-09-15 12:15:00    1919.172836\n",
       "2016-09-15 12:45:00    1917.840856\n",
       "dtype: float64"
      ]
     },
     "execution_count": 12,
     "metadata": {},
     "output_type": "execute_result"
    }
   ],
   "source": [
    "%time\n",
    "T_building_series = create_T_building_series(temp_sens)\n",
    "T_building_series"
   ]
  },
  {
   "cell_type": "code",
   "execution_count": null,
   "metadata": {
    "collapsed": true
   },
   "outputs": [],
   "source": [
    "# Playing... Dont run\n",
    "dt = pd.DateOffset(days = 3) # 3 days    \n",
    "temp_3day = temp_sens[:temp_sens.index.min() + dt]\n",
    "temp_now = temp_sens[temp_sens.index.min() + dt]\n",
    "\n",
    "def find_T_building(temp_3day):\n",
    "    \n",
    "    T_building = 0\n",
    "    tau = 12.0 # decay constant in hours\n",
    "    for i in range(len(temp_3day)):\n",
    "        time_in_hours = 72 - (0.5*i) # each dp is a 0.5 hours\n",
    "        temp_i = temp_3day[i]\n",
    "        weight_i = math.exp(-time_in_hours/tau)\n",
    "        T_building += temp_i * weight_i\n",
    "    return T_building"
   ]
  },
  {
   "cell_type": "code",
   "execution_count": 72,
   "metadata": {
    "collapsed": false
   },
   "outputs": [
    {
     "data": {
      "text/plain": [
       "Timestamp('2016-07-07 14:15:00')"
      ]
     },
     "execution_count": 72,
     "metadata": {},
     "output_type": "execute_result"
    }
   ],
   "source": [
    "temp_sens.index[0]"
   ]
  },
  {
   "cell_type": "code",
   "execution_count": 48,
   "metadata": {
    "collapsed": false
   },
   "outputs": [
    {
     "data": {
      "text/plain": [
       "32.078479035031243"
      ]
     },
     "execution_count": 48,
     "metadata": {},
     "output_type": "execute_result"
    }
   ],
   "source": [
    "#temp_sens_array = np.array(joined_df['Temp_sensor'])\n",
    "temp_sens = joined_df['Temp_sensor']\n",
    "\n",
    "dt = pd.DateOffset(days = 3) # 3 days\n",
    "temp_3day = temp_sens[:temp_sens.index.min() + dt]\n",
    "temp_now = temp_sens[temp_sens.index.min() + dt]\n",
    "T_building = 0\n",
    "tau = 12.0 # decay constant in hours\n",
    "for i in range(len(temp_3day)):\n",
    "    time_in_hours = 72 - (0.5*i) # each dp is a 0.5 hours\n",
    "    temp_i = temp_3day[i]\n",
    "    weight_i = math.exp(-time_in_hours/tau)\n",
    "    T_building += temp_i * weight_i\n",
    "    \n",
    "\n",
    "\n",
    "def find_building_temp(temp_sens_array):\n",
    "    temp_list = []\n",
    "    for i in range(0,3):\n",
    "        temp_list.append(temp_sens_array[i])\n",
    "        \n",
    "    tau = 12 # decay constant in hours\n",
    "    T0_contrib = temp_list[0] * math.exp(-12/tau) # contribution from temp val 0, 12 hours prior\n",
    "    T1_contrib = temp_list[1] * math.exp(-36/tau) # contribution from temp val 1, 36 hours prior\n",
    "    T2_contrib = temp_list[2] * math.exp(-60/tau) # contribution from temp val 2, 60 hours prior\n",
    "    \n",
    "    temp_list = temp_list[1:]\n",
    "    building_temp = T0_contrib + T1_contrib + T2_contrib\n",
    "    return building_temp\n",
    "\n",
    "find_building_temp(temp_sens_array)\n",
    "#temp_list"
   ]
  },
  {
   "cell_type": "code",
   "execution_count": null,
   "metadata": {
    "collapsed": false
   },
   "outputs": [],
   "source": [
    "#Plot all data wrt time\n",
    "fig_size = np.array(mpl.rcParams['figure.figsize']) # size of plot\n",
    "fig_size *=2 # increase size of plot\n",
    "#joined_df.plot(figsize = fig_size) # plot data"
   ]
  },
  {
   "cell_type": "code",
   "execution_count": null,
   "metadata": {
    "collapsed": false
   },
   "outputs": [],
   "source": [
    "# Linear regression between temp at LGA and temp from sensor (without time data) using linear_model from sklearn \n",
    "TempLGA = np.transpose(np.matrix(joined_df['Temp_LGA']))\n",
    "Tempsensor = np.transpose(np.matrix(joined_df['Temp_sensor']))\n",
    "\n",
    "regr = linear_model.LinearRegression()\n",
    "regr.fit(TempLGA, Tempsensor)\n",
    "\n",
    "#z = polyfit(TempLGA, Tempsensor, 4) # polyfit for fitting\n",
    "#p = np.poly1d(z) #polynomial of fit"
   ]
  },
  {
   "cell_type": "code",
   "execution_count": null,
   "metadata": {
    "collapsed": false
   },
   "outputs": [],
   "source": [
    "# Attempt multivariable linear regression\n",
    "LGA_data = np.transpose(np.array([joined_df['Temp_LGA'], joined_df['Rel Humid_LGA'],]))\n",
    "print (LGA_data.shape)\n",
    "sensor_data = np.transpose(np.array([joined_df['Temp_sensor'], joined_df['Rel Humid_sensor'],]))\n",
    "print (sensor_data.shape)\n",
    "\n",
    "mult_regr = linear_model.LinearRegression()\n",
    "mult_regr.fit(LGA_data, sensor_data)\n",
    "mult_regr.params()\n",
    "#mult_regr.predict(LGA_data[:20]).shape"
   ]
  },
  {
   "cell_type": "code",
   "execution_count": null,
   "metadata": {
    "collapsed": false
   },
   "outputs": [],
   "source": [
    "plt.plot()\n"
   ]
  },
  {
   "cell_type": "code",
   "execution_count": null,
   "metadata": {
    "collapsed": false
   },
   "outputs": [],
   "source": [
    "plt.plot()"
   ]
  },
  {
   "cell_type": "code",
   "execution_count": null,
   "metadata": {
    "collapsed": false
   },
   "outputs": [],
   "source": [
    "plt.plot(TempLGA, Tempsensor, '.', TempLGA, regr.predict(TempLGA))\n",
    "#plt.plot(TempLGA, Tempsensor, '.', TempLGA, p(TempLGA), '--')\n"
   ]
  },
  {
   "cell_type": "code",
   "execution_count": null,
   "metadata": {
    "collapsed": false
   },
   "outputs": [],
   "source": [
    "TempLGA_arr = np.array(joined_df['Temp_LGA'][:30])\n",
    "Tempsensor_arr = np.array(joined_df['Temp_sensor'][:30])\n",
    "pd.rolling_corr(TempLGA_arr, Tempsensor_arr, 10).plot()"
   ]
  },
  {
   "cell_type": "markdown",
   "metadata": {},
   "source": []
  },
  {
   "cell_type": "code",
   "execution_count": null,
   "metadata": {
    "collapsed": false
   },
   "outputs": [],
   "source": []
  },
  {
   "cell_type": "code",
   "execution_count": null,
   "metadata": {
    "collapsed": true
   },
   "outputs": [],
   "source": []
  }
 ],
 "metadata": {
  "kernelspec": {
   "display_name": "Python 2",
   "language": "python",
   "name": "python2"
  },
  "language_info": {
   "codemirror_mode": {
    "name": "ipython",
    "version": 2
   },
   "file_extension": ".py",
   "mimetype": "text/x-python",
   "name": "python",
   "nbconvert_exporter": "python",
   "pygments_lexer": "ipython2",
   "version": "2.7.11"
  }
 },
 "nbformat": 4,
 "nbformat_minor": 0
}
