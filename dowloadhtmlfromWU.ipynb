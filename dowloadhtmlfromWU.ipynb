{
 "cells": [
  {
   "cell_type": "code",
   "execution_count": 21,
   "metadata": {
    "collapsed": false
   },
   "outputs": [
    {
     "name": "stdout",
     "output_type": "stream",
     "text": [
      "running command:  phantomjs.exe save_webpage.js https://www.wunderground.com/personal-weather-station/dashboard?ID=KNYNEWYO111#history/tdata/s20160722/e20160722/mdaily > 20160722.html\n",
      "running command:  phantomjs.exe save_webpage.js https://www.wunderground.com/personal-weather-station/dashboard?ID=KNYNEWYO111#history/tdata/s20160723/e20160723/mdaily > 20160723.html\n",
      "running command:  phantomjs.exe save_webpage.js https://www.wunderground.com/personal-weather-station/dashboard?ID=KNYNEWYO111#history/tdata/s20160724/e20160724/mdaily > 20160724.html\n",
      "running command:  phantomjs.exe save_webpage.js https://www.wunderground.com/personal-weather-station/dashboard?ID=KNYNEWYO111#history/tdata/s20160725/e20160725/mdaily > 20160725.html\n",
      "running command:  phantomjs.exe save_webpage.js https://www.wunderground.com/personal-weather-station/dashboard?ID=KNYNEWYO111#history/tdata/s20160726/e20160726/mdaily > 20160726.html\n",
      "running command:  phantomjs.exe save_webpage.js https://www.wunderground.com/personal-weather-station/dashboard?ID=KNYNEWYO111#history/tdata/s20160727/e20160727/mdaily > 20160727.html\n",
      "running command:  phantomjs.exe save_webpage.js https://www.wunderground.com/personal-weather-station/dashboard?ID=KNYNEWYO111#history/tdata/s20160728/e20160728/mdaily > 20160728.html\n",
      "running command:  phantomjs.exe save_webpage.js https://www.wunderground.com/personal-weather-station/dashboard?ID=KNYNEWYO111#history/tdata/s20160729/e20160729/mdaily > 20160729.html\n",
      "running command:  phantomjs.exe save_webpage.js https://www.wunderground.com/personal-weather-station/dashboard?ID=KNYNEWYO111#history/tdata/s20160730/e20160730/mdaily > 20160730.html\n",
      "running command:  phantomjs.exe save_webpage.js https://www.wunderground.com/personal-weather-station/dashboard?ID=KNYNEWYO111#history/tdata/s20160731/e20160731/mdaily > 20160731.html\n",
      "running command:  phantomjs.exe save_webpage.js https://www.wunderground.com/personal-weather-station/dashboard?ID=KNYNEWYO111#history/tdata/s20160801/e20160801/mdaily > 20160801.html\n",
      "running command:  phantomjs.exe save_webpage.js https://www.wunderground.com/personal-weather-station/dashboard?ID=KNYNEWYO111#history/tdata/s20160802/e20160802/mdaily > 20160802.html\n",
      "running command:  phantomjs.exe save_webpage.js https://www.wunderground.com/personal-weather-station/dashboard?ID=KNYNEWYO111#history/tdata/s20160803/e20160803/mdaily > 20160803.html\n",
      "running command:  phantomjs.exe save_webpage.js https://www.wunderground.com/personal-weather-station/dashboard?ID=KNYNEWYO111#history/tdata/s20160804/e20160804/mdaily > 20160804.html\n",
      "running command:  phantomjs.exe save_webpage.js https://www.wunderground.com/personal-weather-station/dashboard?ID=KNYNEWYO111#history/tdata/s20160805/e20160805/mdaily > 20160805.html\n",
      "running command:  phantomjs.exe save_webpage.js https://www.wunderground.com/personal-weather-station/dashboard?ID=KNYNEWYO111#history/tdata/s20160806/e20160806/mdaily > 20160806.html\n",
      "running command:  phantomjs.exe save_webpage.js https://www.wunderground.com/personal-weather-station/dashboard?ID=KNYNEWYO111#history/tdata/s20160807/e20160807/mdaily > 20160807.html\n",
      "running command:  phantomjs.exe save_webpage.js https://www.wunderground.com/personal-weather-station/dashboard?ID=KNYNEWYO111#history/tdata/s20160808/e20160808/mdaily > 20160808.html\n",
      "running command:  phantomjs.exe save_webpage.js https://www.wunderground.com/personal-weather-station/dashboard?ID=KNYNEWYO111#history/tdata/s20160809/e20160809/mdaily > 20160809.html\n",
      "running command:  phantomjs.exe save_webpage.js https://www.wunderground.com/personal-weather-station/dashboard?ID=KNYNEWYO111#history/tdata/s20160810/e20160810/mdaily > 20160810.html\n",
      "running command:  phantomjs.exe save_webpage.js https://www.wunderground.com/personal-weather-station/dashboard?ID=KNYNEWYO111#history/tdata/s20160811/e20160811/mdaily > 20160811.html\n",
      "running command:  phantomjs.exe save_webpage.js https://www.wunderground.com/personal-weather-station/dashboard?ID=KNYNEWYO111#history/tdata/s20160812/e20160812/mdaily > 20160812.html\n",
      "running command:  phantomjs.exe save_webpage.js https://www.wunderground.com/personal-weather-station/dashboard?ID=KNYNEWYO111#history/tdata/s20160813/e20160813/mdaily > 20160813.html\n",
      "running command:  phantomjs.exe save_webpage.js https://www.wunderground.com/personal-weather-station/dashboard?ID=KNYNEWYO111#history/tdata/s20160814/e20160814/mdaily > 20160814.html\n",
      "running command:  phantomjs.exe save_webpage.js https://www.wunderground.com/personal-weather-station/dashboard?ID=KNYNEWYO111#history/tdata/s20160815/e20160815/mdaily > 20160815.html\n",
      "running command:  phantomjs.exe save_webpage.js https://www.wunderground.com/personal-weather-station/dashboard?ID=KNYNEWYO111#history/tdata/s20160816/e20160816/mdaily > 20160816.html\n",
      "running command:  phantomjs.exe save_webpage.js https://www.wunderground.com/personal-weather-station/dashboard?ID=KNYNEWYO111#history/tdata/s20160817/e20160817/mdaily > 20160817.html\n",
      "running command:  phantomjs.exe save_webpage.js https://www.wunderground.com/personal-weather-station/dashboard?ID=KNYNEWYO111#history/tdata/s20160818/e20160818/mdaily > 20160818.html\n",
      "running command:  phantomjs.exe save_webpage.js https://www.wunderground.com/personal-weather-station/dashboard?ID=KNYNEWYO111#history/tdata/s20160819/e20160819/mdaily > 20160819.html\n",
      "running command:  phantomjs.exe save_webpage.js https://www.wunderground.com/personal-weather-station/dashboard?ID=KNYNEWYO111#history/tdata/s20160820/e20160820/mdaily > 20160820.html\n",
      "running command:  phantomjs.exe save_webpage.js https://www.wunderground.com/personal-weather-station/dashboard?ID=KNYNEWYO111#history/tdata/s20160821/e20160821/mdaily > 20160821.html\n",
      "running command:  phantomjs.exe save_webpage.js https://www.wunderground.com/personal-weather-station/dashboard?ID=KNYNEWYO111#history/tdata/s20160822/e20160822/mdaily > 20160822.html\n",
      "running command:  phantomjs.exe save_webpage.js https://www.wunderground.com/personal-weather-station/dashboard?ID=KNYNEWYO111#history/tdata/s20160823/e20160823/mdaily > 20160823.html\n",
      "running command:  phantomjs.exe save_webpage.js https://www.wunderground.com/personal-weather-station/dashboard?ID=KNYNEWYO111#history/tdata/s20160824/e20160824/mdaily > 20160824.html\n",
      "running command:  phantomjs.exe save_webpage.js https://www.wunderground.com/personal-weather-station/dashboard?ID=KNYNEWYO111#history/tdata/s20160825/e20160825/mdaily > 20160825.html\n",
      "running command:  phantomjs.exe save_webpage.js https://www.wunderground.com/personal-weather-station/dashboard?ID=KNYNEWYO111#history/tdata/s20160826/e20160826/mdaily > 20160826.html\n",
      "running command:  phantomjs.exe save_webpage.js https://www.wunderground.com/personal-weather-station/dashboard?ID=KNYNEWYO111#history/tdata/s20160827/e20160827/mdaily > 20160827.html\n",
      "running command:  phantomjs.exe save_webpage.js https://www.wunderground.com/personal-weather-station/dashboard?ID=KNYNEWYO111#history/tdata/s20160828/e20160828/mdaily > 20160828.html\n",
      "running command:  phantomjs.exe save_webpage.js https://www.wunderground.com/personal-weather-station/dashboard?ID=KNYNEWYO111#history/tdata/s20160829/e20160829/mdaily > 20160829.html\n",
      "running command:  phantomjs.exe save_webpage.js https://www.wunderground.com/personal-weather-station/dashboard?ID=KNYNEWYO111#history/tdata/s20160830/e20160830/mdaily > 20160830.html\n",
      "running command:  phantomjs.exe save_webpage.js https://www.wunderground.com/personal-weather-station/dashboard?ID=KNYNEWYO111#history/tdata/s20160831/e20160831/mdaily > 20160831.html\n",
      "running command:  phantomjs.exe save_webpage.js https://www.wunderground.com/personal-weather-station/dashboard?ID=KNYNEWYO111#history/tdata/s20160901/e20160901/mdaily > 20160901.html\n",
      "running command:  phantomjs.exe save_webpage.js https://www.wunderground.com/personal-weather-station/dashboard?ID=KNYNEWYO111#history/tdata/s20160902/e20160902/mdaily > 20160902.html\n",
      "running command:  phantomjs.exe save_webpage.js https://www.wunderground.com/personal-weather-station/dashboard?ID=KNYNEWYO111#history/tdata/s20160903/e20160903/mdaily > 20160903.html\n",
      "running command:  phantomjs.exe save_webpage.js https://www.wunderground.com/personal-weather-station/dashboard?ID=KNYNEWYO111#history/tdata/s20160904/e20160904/mdaily > 20160904.html\n",
      "running command:  phantomjs.exe save_webpage.js https://www.wunderground.com/personal-weather-station/dashboard?ID=KNYNEWYO111#history/tdata/s20160905/e20160905/mdaily > 20160905.html\n",
      "running command:  phantomjs.exe save_webpage.js https://www.wunderground.com/personal-weather-station/dashboard?ID=KNYNEWYO111#history/tdata/s20160906/e20160906/mdaily > 20160906.html\n",
      "running command:  phantomjs.exe save_webpage.js https://www.wunderground.com/personal-weather-station/dashboard?ID=KNYNEWYO111#history/tdata/s20160907/e20160907/mdaily > 20160907.html\n",
      "running command:  phantomjs.exe save_webpage.js https://www.wunderground.com/personal-weather-station/dashboard?ID=KNYNEWYO111#history/tdata/s20160908/e20160908/mdaily > 20160908.html\n",
      "running command:  phantomjs.exe save_webpage.js https://www.wunderground.com/personal-weather-station/dashboard?ID=KNYNEWYO111#history/tdata/s20160909/e20160909/mdaily > 20160909.html\n",
      "running command:  phantomjs.exe save_webpage.js https://www.wunderground.com/personal-weather-station/dashboard?ID=KNYNEWYO111#history/tdata/s20160910/e20160910/mdaily > 20160910.html\n",
      "running command:  phantomjs.exe save_webpage.js https://www.wunderground.com/personal-weather-station/dashboard?ID=KNYNEWYO111#history/tdata/s20160911/e20160911/mdaily > 20160911.html\n",
      "running command:  phantomjs.exe save_webpage.js https://www.wunderground.com/personal-weather-station/dashboard?ID=KNYNEWYO111#history/tdata/s20160912/e20160912/mdaily > 20160912.html\n",
      "running command:  phantomjs.exe save_webpage.js https://www.wunderground.com/personal-weather-station/dashboard?ID=KNYNEWYO111#history/tdata/s20160913/e20160913/mdaily > 20160913.html\n",
      "running command:  phantomjs.exe save_webpage.js https://www.wunderground.com/personal-weather-station/dashboard?ID=KNYNEWYO111#history/tdata/s20160914/e20160914/mdaily > 20160914.html\n",
      "running command:  phantomjs.exe save_webpage.js https://www.wunderground.com/personal-weather-station/dashboard?ID=KNYNEWYO111#history/tdata/s20160915/e20160915/mdaily > 20160915.html\n"
     ]
    }
   ],
   "source": [
    "import os\n",
    "import datetime as dt\n",
    "import time\n",
    "\n",
    "startdate = dt.date(2016,7,22)\n",
    "enddate   = dt.date(2016,9,15)\n",
    "\n",
    "\n",
    "curdate = startdate\n",
    "#datestr = 20160707\n",
    "\n",
    "while curdate <= enddate:\n",
    "    \n",
    "    datestr = str(curdate).replace('-','')\n",
    "                  \n",
    "    #phantom js s a headless web browser. it will render the page \n",
    "    #and then we pipe the full html to a local html file\n",
    "    cmd = 'phantomjs.exe save_webpage.js '+\\\n",
    "          'https://www.wunderground.com/personal-weather-station/dashboard?ID=KNYNEWYO111#history/tdata/s' +\\\n",
    "           datestr + '/e' + datestr +'/mdaily > ' + datestr + '.html'\n",
    "    \n",
    "    print('running command: ',cmd)\n",
    "    \n",
    "    os.system(cmd)#run command\n",
    "\n",
    "    #increment date by one day\n",
    "    curdate += dt.timedelta(days=1)\n",
    "    \n",
    "    time.sleep(15)"
   ]
  },
  {
   "cell_type": "code",
   "execution_count": 1,
   "metadata": {
    "collapsed": true
   },
   "outputs": [],
   "source": []
  },
  {
   "cell_type": "code",
   "execution_count": 13,
   "metadata": {
    "collapsed": false
   },
   "outputs": [
    {
     "data": {
      "text/plain": [
       "'20160707'"
      ]
     },
     "execution_count": 13,
     "metadata": {},
     "output_type": "execute_result"
    }
   ],
   "source": [
    "str(dt.date(2016,7,7)).replace('-','')"
   ]
  },
  {
   "cell_type": "code",
   "execution_count": 14,
   "metadata": {
    "collapsed": false
   },
   "outputs": [
    {
     "data": {
      "text/plain": [
       "True"
      ]
     },
     "execution_count": 14,
     "metadata": {},
     "output_type": "execute_result"
    }
   ],
   "source": [
    "dt.date(2016,7,7) < dt.date(2016,9,15)\n"
   ]
  },
  {
   "cell_type": "code",
   "execution_count": null,
   "metadata": {
    "collapsed": true
   },
   "outputs": [],
   "source": []
  }
 ],
 "metadata": {
  "kernelspec": {
   "display_name": "Python 3",
   "language": "python",
   "name": "python3"
  },
  "language_info": {
   "codemirror_mode": {
    "name": "ipython",
    "version": 3
   },
   "file_extension": ".py",
   "mimetype": "text/x-python",
   "name": "python",
   "nbconvert_exporter": "python",
   "pygments_lexer": "ipython3",
   "version": "3.5.2"
  }
 },
 "nbformat": 4,
 "nbformat_minor": 0
}
