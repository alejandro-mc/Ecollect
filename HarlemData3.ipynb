{
 "cells": [
  {
   "cell_type": "code",
   "execution_count": 1,
   "metadata": {},
   "outputs": [
    {
     "name": "stderr",
     "output_type": "stream",
     "text": [
      "/home/alejandro-mc/anaconda3/envs/py27/lib/python2.7/site-packages/matplotlib/font_manager.py:280: UserWarning: Matplotlib is building the font cache using fc-list. This may take a moment.\n",
      "  'Matplotlib is building the font cache using fc-list. '\n"
     ]
    }
   ],
   "source": [
    "import math\n",
    "import numpy as np\n",
    "import pandas as pd\n",
    "import matplotlib as mpl\n",
    "import matplotlib.pyplot as plt\n",
    "\n",
    "from scipy import linspace, polyval, polyfit, sqrt, stats, randn\n",
    "from sklearn import datasets, linear_model\n",
    "from sklearn.model_selection import train_test_split\n",
    "from sklearn.metrics import r2_score\n",
    "%matplotlib inline"
   ]
  },
  {
   "cell_type": "code",
   "execution_count": 2,
   "metadata": {},
   "outputs": [],
   "source": [
    "# Import sensor data indexed by Timestamp\n",
    "sensor_df = pd.read_csv('HHtest.txt', names = [\"Sensor\", \"Seconds\", \"Timestamp\", \"Temp\", \"Rel Humid\", \"Voltage\"],\n",
    "                        index_col = ['Timestamp'], parse_dates = [\"Timestamp\"])\n",
    "# Delete unneeded columns\n",
    "sensor_df.drop(['Sensor','Seconds','Rel Humid', 'Voltage'], axis = 1, inplace = True)\n",
    "\n",
    "#sensor_df[:3]"
   ]
  },
  {
   "cell_type": "code",
   "execution_count": 3,
   "metadata": {},
   "outputs": [],
   "source": [
    "# Resample for every 30 minutes and name according to midpoint\n",
    "sensor_df = sensor_df.resample('30T', loffset = '-15 min').mean()\n",
    "#sensor_df.head"
   ]
  },
  {
   "cell_type": "code",
   "execution_count": 4,
   "metadata": {},
   "outputs": [],
   "source": [
    "# Import sensor data indexed by Timestamp\n",
    "LGA_df = pd.read_csv('KLGA.csv', names = [\"Timestamp\", \"Temp\", \"Rel Humid\"], index_col = ['Timestamp'], parse_dates = [\"Timestamp\"])\n",
    "\n",
    "# Delete unneeded columns\n",
    "LGA_df.drop(['Rel Humid'], axis = 1, inplace = True)\n",
    "\n",
    "#LGA_df.head"
   ]
  },
  {
   "cell_type": "code",
   "execution_count": 5,
   "metadata": {},
   "outputs": [],
   "source": [
    "# Resample for every 30 minutes and name according to midpoint\n",
    "LGA_df = LGA_df.resample('30T', loffset = '-15 min').mean()\n",
    "#LGA_df[:3]"
   ]
  },
  {
   "cell_type": "code",
   "execution_count": 6,
   "metadata": {},
   "outputs": [
    {
     "data": {
      "text/plain": [
       "3358"
      ]
     },
     "execution_count": 6,
     "metadata": {},
     "output_type": "execute_result"
    }
   ],
   "source": [
    "date_range = pd.date_range('2016-07-07 14:15:00','2016-09-15 12:45:00', freq='30T')\n",
    "len(date_range.tolist())"
   ]
  },
  {
   "cell_type": "code",
   "execution_count": 38,
   "metadata": {},
   "outputs": [
    {
     "data": {
      "text/plain": [
       "<bound method DataFrame.head of                       Temp_LGA  Temp_sensor\n",
       "Timestamp                                  \n",
       "2016-07-07 14:15:00  85.502857        75.20\n",
       "2016-07-07 14:45:00  83.920000        78.26\n",
       "2016-07-07 15:15:00  87.585714        76.82\n",
       "2016-07-07 15:45:00  85.420000        76.01\n",
       "2016-07-07 16:15:00  87.714286        74.93\n",
       "2016-07-07 16:45:00  86.920000        74.12\n",
       "2016-07-07 17:15:00  84.320000        73.85\n",
       "2016-07-07 17:45:00  83.920000        73.58\n",
       "2016-07-07 18:15:00  80.797143        73.31\n",
       "2016-07-07 18:45:00  78.820000        73.22\n",
       "2016-07-07 19:15:00  80.282857        73.40\n",
       "2016-07-07 19:45:00  79.420000        73.04\n",
       "2016-07-07 20:15:00  79.100000        73.22\n",
       "2016-07-07 20:45:00  80.320000        72.95\n",
       "2016-07-07 21:15:00  79.614286        72.77\n",
       "2016-07-07 21:45:00  78.820000        72.86\n",
       "2016-07-07 22:15:00  78.842857        73.13\n",
       "2016-07-07 22:45:00  78.220000        72.59\n",
       "2016-07-07 23:15:00  77.531429        73.04\n",
       "2016-07-07 23:45:00  75.520000        72.86\n",
       "2016-07-08 00:15:00  75.191429        72.86\n",
       "2016-07-08 00:45:00  74.920000        72.86\n",
       "2016-07-08 01:15:00  74.420000        72.86\n",
       "2016-07-08 01:45:00  74.920000        72.86\n",
       "2016-07-08 02:15:00  75.320000        72.77\n",
       "2016-07-08 02:45:00  75.220000        72.77\n",
       "2016-07-08 03:15:00  73.751429        72.86\n",
       "2016-07-08 03:45:00  75.220000        72.77\n",
       "2016-07-08 04:15:00  75.834286        72.86\n",
       "2016-07-08 04:45:00  74.320000        72.86\n",
       "...                        ...          ...\n",
       "2016-09-14 22:15:00  75.817143        79.25\n",
       "2016-09-14 22:45:00  73.700000        79.25\n",
       "2016-09-14 23:15:00  71.908571        79.25\n",
       "2016-09-14 23:45:00  71.600000        79.25\n",
       "2016-09-15 00:15:00  69.825714        79.16\n",
       "2016-09-15 00:45:00  69.800000        79.16\n",
       "2016-09-15 01:15:00  69.028571        79.16\n",
       "2016-09-15 01:45:00  68.000000        78.98\n",
       "2016-09-15 02:15:00  68.000000        78.98\n",
       "2016-09-15 02:45:00  66.800000        78.98\n",
       "2016-09-15 03:15:00  66.174286        78.98\n",
       "2016-09-15 03:45:00  66.200000        78.98\n",
       "2016-09-15 04:15:00  64.477143        78.89\n",
       "2016-09-15 04:45:00  64.400000        78.80\n",
       "2016-09-15 05:15:00  64.348571        78.80\n",
       "2016-09-15 05:45:00  64.100000        78.80\n",
       "2016-09-15 06:15:00  62.651429        78.80\n",
       "2016-09-15 06:45:00  63.500000        78.80\n",
       "2016-09-15 07:15:00  64.348571        78.35\n",
       "2016-09-15 07:45:00  64.400000        78.26\n",
       "2016-09-15 08:15:00  65.917143        78.08\n",
       "2016-09-15 08:45:00  66.500000        78.08\n",
       "2016-09-15 09:15:00  67.742857        77.99\n",
       "2016-09-15 09:45:00  69.200000        78.08\n",
       "2016-09-15 10:15:00  69.825714        77.72\n",
       "2016-09-15 10:45:00  70.100000        77.36\n",
       "2016-09-15 11:15:00  69.825714        77.54\n",
       "2016-09-15 11:45:00  70.700000        77.18\n",
       "2016-09-15 12:15:00  71.522857        77.18\n",
       "2016-09-15 12:45:00  71.600000        77.18\n",
       "\n",
       "[3358 rows x 2 columns]>"
      ]
     },
     "execution_count": 38,
     "metadata": {},
     "output_type": "execute_result"
    }
   ],
   "source": [
    "# Join df together for all timestamps that exist in both files\n",
    "\n",
    "joined_df = LGA_df.join(sensor_df, how = 'inner', lsuffix = '_LGA', rsuffix = '_sensor')\n",
    "\n",
    "joined_df = joined_df.fillna(method = 'ffill') # drop NaN values **Are the values in order? Do we need to interpolate between the values?\n",
    "#joined_df = joined_df.resample('30T').pad()\n",
    "joined_df.head"
   ]
  },
  {
   "cell_type": "code",
   "execution_count": 8,
   "metadata": {
    "collapsed": true
   },
   "outputs": [],
   "source": [
    "def find_exp_weights():\n",
    "    # Find exponential weights for the building temperature calculation\n",
    "    weight_list = []\n",
    "    tau = 48.0 # decay constant in hours\n",
    "    for i in range(1,145):\n",
    "        time_in_hours = (0.5*i) # each dp is a 0.5 hours so this is the t (in hours)\n",
    "        # time_in_hours = 72 - (0.5*i) # each dp is a 0.5 hours\n",
    "        weight_i = math.exp(-time_in_hours/tau)\n",
    "        weight_list.append(weight_i)\n",
    "    return weight_list"
   ]
  },
  {
   "cell_type": "code",
   "execution_count": 9,
   "metadata": {
    "collapsed": true
   },
   "outputs": [],
   "source": [
    "def find_T_building(temp_3day, weight_list):\n",
    "    #Input first three days of the dataframe of indoor temp data. Computes one Temperature data\n",
    "    #point (T_building) given data points from the three previous days (temp_3day) \n",
    "    #by assigning a weight to each data point and adding them up\n",
    "    weight_array = np.array(weight_list)\n",
    "    T_building = np.dot(np.array(temp_3day), weight_array)\n",
    "    normalized_T_building = T_building / sum(weight_list)\n",
    "    return normalized_T_building"
   ]
  },
  {
   "cell_type": "code",
   "execution_count": 10,
   "metadata": {
    "collapsed": true
   },
   "outputs": [],
   "source": [
    "def find_T_average(temp_3day):\n",
    "    #Input first three days of the dataframe of indoor temp data...\n",
    "    Tsum = np.sum(np.array(temp_3day))\n",
    "    T_average = Tsum / len(temp_3day)\n",
    "    return T_average"
   ]
  },
  {
   "cell_type": "code",
   "execution_count": null,
   "metadata": {
    "collapsed": true
   },
   "outputs": [],
   "source": []
  },
  {
   "cell_type": "code",
   "execution_count": 11,
   "metadata": {},
   "outputs": [],
   "source": [
    "temp_sens_array = np.array(joined_df['Temp_sensor'])\n",
    "temp_sens = joined_df['Temp_sensor']\n",
    "\n",
    "def create_Tr_averages(temp_sens):\n",
    "    T_average_list = []\n",
    "    T_average_index = []\n",
    "    dt = pd.DateOffset(days = 3) # 3 days \n",
    "\n",
    "    for j in range(144,len(temp_sens)): \n",
    "        #144 points in the first 3 days (because 72 hours * 2 dp/hr)\n",
    "        Timestamp_j = temp_sens.index[j]\n",
    "        temp_3day = temp_sens[Timestamp_j-dt :Timestamp_j-1]\n",
    "        T_average = find_T_average(temp_3day)\n",
    "        T_average_list.append(T_average)\n",
    "        T_average_index.append(Timestamp_j)\n",
    "    \n",
    "    return pd.Series(T_average_list, index = T_average_index, name = 'T_building')\n"
   ]
  },
  {
   "cell_type": "code",
   "execution_count": 12,
   "metadata": {},
   "outputs": [
    {
     "name": "stdout",
     "output_type": "stream",
     "text": [
      "3214\n"
     ]
    }
   ],
   "source": [
    "temp_3day = temp_sens[0: 144]\n",
    "find_T_average(temp_3day)\n",
    "T_average = create_Tr_averages(temp_sens)\n",
    "print len(T_average)"
   ]
  },
  {
   "cell_type": "code",
   "execution_count": 13,
   "metadata": {
    "collapsed": true
   },
   "outputs": [],
   "source": [
    "temp_sens_array = np.array(joined_df['Temp_sensor'])\n",
    "temp_sens = joined_df['Temp_sensor']\n",
    "\n",
    "def create_T_building_series(temp_sens):\n",
    "    T_building_list = []\n",
    "    T_building_index = []\n",
    "    dt = pd.DateOffset(days = 3) # 3 days \n",
    "    weight_list = find_exp_weights()\n",
    "\n",
    "    for j in range(144,len(temp_sens)): \n",
    "        #144 points in the first 3 days (because 72 hours * 2 dp/hr)\n",
    "        Timestamp_j = temp_sens.index[j]\n",
    "        temp_3day = temp_sens[Timestamp_j-dt :Timestamp_j-1]\n",
    "\n",
    "        T_building = find_T_building(temp_3day, weight_list)\n",
    "        T_building_list.append(T_building)\n",
    "        T_building_index.append(Timestamp_j)\n",
    "    \n",
    "    return pd.Series(T_building_list, index = T_building_index, name = 'T_building')\n"
   ]
  },
  {
   "cell_type": "code",
   "execution_count": 14,
   "metadata": {},
   "outputs": [
    {
     "name": "stdout",
     "output_type": "stream",
     "text": [
      "3214\n"
     ]
    },
    {
     "data": {
      "text/plain": [
       "2016-07-10 14:15:00    74.523058\n",
       "2016-07-10 14:45:00    74.529504\n",
       "2016-07-10 15:15:00    74.494772\n",
       "Name: T_building, dtype: float64"
      ]
     },
     "execution_count": 14,
     "metadata": {},
     "output_type": "execute_result"
    }
   ],
   "source": [
    "T_building_series = create_T_building_series(temp_sens)\n",
    "print len(T_building_series)\n",
    "T_building_series[:3]"
   ]
  },
  {
   "cell_type": "code",
   "execution_count": 15,
   "metadata": {},
   "outputs": [
    {
     "name": "stdout",
     "output_type": "stream",
     "text": [
      "2016-09-15 12:45:00\n",
      "3214\n"
     ]
    },
    {
     "data": {
      "text/html": [
       "<div>\n",
       "<style>\n",
       "    .dataframe thead tr:only-child th {\n",
       "        text-align: right;\n",
       "    }\n",
       "\n",
       "    .dataframe thead th {\n",
       "        text-align: left;\n",
       "    }\n",
       "\n",
       "    .dataframe tbody tr th {\n",
       "        vertical-align: top;\n",
       "    }\n",
       "</style>\n",
       "<table border=\"1\" class=\"dataframe\">\n",
       "  <thead>\n",
       "    <tr style=\"text-align: right;\">\n",
       "      <th></th>\n",
       "      <th>Temp_LGA</th>\n",
       "      <th>Temp_sensor</th>\n",
       "      <th>T_building</th>\n",
       "    </tr>\n",
       "  </thead>\n",
       "  <tbody>\n",
       "    <tr>\n",
       "      <th>2016-07-10 14:15:00</th>\n",
       "      <td>80.226667</td>\n",
       "      <td>79.7</td>\n",
       "      <td>74.523058</td>\n",
       "    </tr>\n",
       "    <tr>\n",
       "      <th>2016-07-10 14:45:00</th>\n",
       "      <td>80.226667</td>\n",
       "      <td>79.7</td>\n",
       "      <td>74.529504</td>\n",
       "    </tr>\n",
       "    <tr>\n",
       "      <th>2016-07-10 15:15:00</th>\n",
       "      <td>77.973333</td>\n",
       "      <td>79.7</td>\n",
       "      <td>74.494772</td>\n",
       "    </tr>\n",
       "  </tbody>\n",
       "</table>\n",
       "</div>"
      ],
      "text/plain": [
       "                      Temp_LGA  Temp_sensor  T_building\n",
       "2016-07-10 14:15:00  80.226667         79.7   74.523058\n",
       "2016-07-10 14:45:00  80.226667         79.7   74.529504\n",
       "2016-07-10 15:15:00  77.973333         79.7   74.494772"
      ]
     },
     "execution_count": 15,
     "metadata": {},
     "output_type": "execute_result"
    }
   ],
   "source": [
    "#joined_df = joined_df.join(T_building_series, how = 'inner')\n",
    "joined_df2 = pd.concat([joined_df,T_building_series], axis=1, join ='inner')\n",
    "print joined_df2.index[len(joined_df2)-1]\n",
    "print len(joined_df2)\n",
    "joined_df2[:3]"
   ]
  },
  {
   "cell_type": "code",
   "execution_count": 16,
   "metadata": {},
   "outputs": [],
   "source": [
    "# Import solar historical data indexed by Timestamp\n",
    "# Radiation data is reported in W/m^2\n",
    "solar_df = pd.read_csv('histsolar.txt', names = [\"Timestamp\", \"Solar\"],\n",
    "                        index_col = ['Timestamp'], parse_dates = [\"Timestamp\"])\n"
   ]
  },
  {
   "cell_type": "code",
   "execution_count": 17,
   "metadata": {},
   "outputs": [
    {
     "name": "stdout",
     "output_type": "stream",
     "text": [
      "2016-09-15 23:15:00\n"
     ]
    },
    {
     "data": {
      "text/html": [
       "<div>\n",
       "<style>\n",
       "    .dataframe thead tr:only-child th {\n",
       "        text-align: right;\n",
       "    }\n",
       "\n",
       "    .dataframe thead th {\n",
       "        text-align: left;\n",
       "    }\n",
       "\n",
       "    .dataframe tbody tr th {\n",
       "        vertical-align: top;\n",
       "    }\n",
       "</style>\n",
       "<table border=\"1\" class=\"dataframe\">\n",
       "  <thead>\n",
       "    <tr style=\"text-align: right;\">\n",
       "      <th></th>\n",
       "      <th>Solar</th>\n",
       "    </tr>\n",
       "    <tr>\n",
       "      <th>Timestamp</th>\n",
       "      <th></th>\n",
       "    </tr>\n",
       "  </thead>\n",
       "  <tbody>\n",
       "    <tr>\n",
       "      <th>2016-07-06 23:45:00</th>\n",
       "      <td>0.0</td>\n",
       "    </tr>\n",
       "    <tr>\n",
       "      <th>2016-07-07 00:15:00</th>\n",
       "      <td>0.0</td>\n",
       "    </tr>\n",
       "    <tr>\n",
       "      <th>2016-07-07 00:45:00</th>\n",
       "      <td>0.0</td>\n",
       "    </tr>\n",
       "  </tbody>\n",
       "</table>\n",
       "</div>"
      ],
      "text/plain": [
       "                     Solar\n",
       "Timestamp                 \n",
       "2016-07-06 23:45:00    0.0\n",
       "2016-07-07 00:15:00    0.0\n",
       "2016-07-07 00:45:00    0.0"
      ]
     },
     "execution_count": 17,
     "metadata": {},
     "output_type": "execute_result"
    }
   ],
   "source": [
    "solar_df = solar_df.resample('30T', loffset = '-15 min').mean()\n",
    "#solar_df = solar_df[joined_df2.index[0],joined_df2.index[len(joined_df2)-1]]\n",
    "print solar_df.index[len(solar_df)-1]\n",
    "solar_df[:3]"
   ]
  },
  {
   "cell_type": "code",
   "execution_count": 18,
   "metadata": {},
   "outputs": [
    {
     "name": "stdout",
     "output_type": "stream",
     "text": [
      "3214\n"
     ]
    },
    {
     "data": {
      "text/plain": [
       "<bound method DataFrame.head of                       Temp_LGA  Temp_sensor  T_building       Solar\n",
       "2016-07-10 14:15:00  80.226667        79.70   74.523058  320.166667\n",
       "2016-07-10 14:45:00  80.226667        79.70   74.529504  420.000000\n",
       "2016-07-10 15:15:00  77.973333        79.70   74.494772  400.800000\n",
       "2016-07-10 15:45:00  77.020000        79.70   74.479086  429.833333\n",
       "2016-07-10 16:15:00  77.196667        79.70   74.474153  523.000000\n",
       "2016-07-10 16:45:00  77.196667        79.70   74.483726  216.500000\n",
       "2016-07-10 17:15:00  79.440000        79.79   74.504316  195.400000\n",
       "2016-07-10 17:45:00  79.440000        79.88   74.529032  196.000000\n",
       "2016-07-10 18:15:00  78.873333        79.88   74.557916   89.500000\n",
       "2016-07-10 18:45:00  78.820000        79.70   74.590743  173.600000\n",
       "2016-07-10 19:15:00  78.997143        79.79   74.624584   43.666667\n",
       "2016-07-10 19:45:00  78.820000        79.79   74.656625   51.333333\n",
       "2016-07-10 20:15:00  78.200000        79.70   74.693853    1.400000\n",
       "2016-07-10 20:45:00  77.020000        79.70   74.728774    0.000000\n",
       "2016-07-10 21:15:00  76.836667        79.61   74.767701    0.000000\n",
       "2016-07-10 21:45:00  73.420000        79.70   74.809190    0.000000\n",
       "2016-07-10 22:15:00  73.237143        79.70   74.850171    0.000000\n",
       "2016-07-10 22:45:00  71.620000        79.97   74.887943    0.000000\n",
       "2016-07-10 23:15:00  71.822857        80.06   74.934200    0.000000\n",
       "2016-07-10 23:45:00  71.620000        80.06   74.975147    0.000000\n",
       "2016-07-11 00:15:00  71.308571        80.06   75.018948    0.000000\n",
       "2016-07-11 00:45:00  68.020000        80.06   75.063209    0.000000\n",
       "2016-07-11 01:15:00  68.557143        80.06   75.107933    0.000000\n",
       "2016-07-11 01:45:00  69.820000        80.06   75.153125    0.000000\n",
       "2016-07-11 02:15:00  69.842857        79.97   75.198790    0.000000\n",
       "2016-07-11 02:45:00  69.820000        79.88   75.245876    0.000000\n",
       "2016-07-11 03:15:00  69.846667        79.88   75.293185    0.000000\n",
       "2016-07-11 03:45:00  68.020000        79.61   75.339775    0.000000\n",
       "2016-07-11 04:15:00  68.171429        79.70   75.387255    0.000000\n",
       "2016-07-11 04:45:00  68.020000        79.52   75.434289    0.600000\n",
       "...                        ...          ...         ...         ...\n",
       "2016-09-14 22:15:00  75.817143        79.25   79.602996    0.000000\n",
       "2016-09-14 22:45:00  73.700000        79.25   79.571513    0.000000\n",
       "2016-09-14 23:15:00  71.908571        79.25   79.539701    0.000000\n",
       "2016-09-14 23:45:00  71.600000        79.25   79.507555    0.000000\n",
       "2016-09-15 00:15:00  69.825714        79.16   79.475073    0.000000\n",
       "2016-09-15 00:45:00  69.800000        79.16   79.441980    0.000000\n",
       "2016-09-15 01:15:00  69.028571        79.16   79.410966    0.000000\n",
       "2016-09-15 01:45:00  68.000000        78.98   79.380841    0.000000\n",
       "2016-09-15 02:15:00  68.000000        78.98   79.351073    0.000000\n",
       "2016-09-15 02:45:00  66.800000        78.98   79.320992    0.000000\n",
       "2016-09-15 03:15:00  66.174286        78.98   79.290597    0.000000\n",
       "2016-09-15 03:45:00  66.200000        78.98   79.261096    0.000000\n",
       "2016-09-15 04:15:00  64.477143        78.89   79.232499    0.000000\n",
       "2016-09-15 04:45:00  64.400000        78.80   79.203333    0.000000\n",
       "2016-09-15 05:15:00  64.348571        78.80   79.174803    0.000000\n",
       "2016-09-15 05:45:00  64.100000        78.80   79.145975    0.333333\n",
       "2016-09-15 06:15:00  62.651429        78.80   79.119271   34.333333\n",
       "2016-09-15 06:45:00  63.500000        78.80   79.092287  123.600000\n",
       "2016-09-15 07:15:00  64.348571        78.35   79.072299  190.000000\n",
       "2016-09-15 07:45:00  64.400000        78.26   79.051962  248.250000\n",
       "2016-09-15 08:15:00  65.917143        78.08   79.031141  303.833333\n",
       "2016-09-15 08:45:00  66.500000        78.08   79.009560  365.833333\n",
       "2016-09-15 09:15:00  67.742857        77.99   78.990180  424.800000\n",
       "2016-09-15 09:45:00  69.200000        78.08   78.970326  475.333333\n",
       "2016-09-15 10:15:00  69.825714        77.72   78.952961  530.500000\n",
       "2016-09-15 10:45:00  70.100000        77.36   78.934332  577.000000\n",
       "2016-09-15 11:15:00  69.825714        77.54   78.916851  616.500000\n",
       "2016-09-15 11:45:00  70.700000        77.18   78.900941  652.833333\n",
       "2016-09-15 12:15:00  71.522857        77.18   78.883782  676.800000\n",
       "2016-09-15 12:45:00  71.600000        77.18   78.867657  692.800000\n",
       "\n",
       "[3214 rows x 4 columns]>"
      ]
     },
     "execution_count": 18,
     "metadata": {},
     "output_type": "execute_result"
    }
   ],
   "source": [
    "joined_df2 = joined_df2.join(solar_df, how = 'left', lsuffix = '_joined', rsuffix = '_solar')\n",
    "print(len(joined_df2))\n",
    "joined_df2 = joined_df2.fillna(method = 'ffill')\n",
    "joined_df2.head"
   ]
  },
  {
   "cell_type": "code",
   "execution_count": 19,
   "metadata": {},
   "outputs": [
    {
     "data": {
      "text/plain": [
       "False"
      ]
     },
     "execution_count": 19,
     "metadata": {},
     "output_type": "execute_result"
    }
   ],
   "source": [
    "joined_df2.isnull().values.any()"
   ]
  },
  {
   "cell_type": "code",
   "execution_count": 20,
   "metadata": {},
   "outputs": [],
   "source": [
    "Ta = joined_df2.iloc[:,0].values # creates np array for ambient temp\n",
    "Tr = joined_df2.iloc[:,1].values # creates np array for resident temp\n",
    "Tb = joined_df2.iloc[:,2].values # creates np array for building storage temp\n",
    "Ti = 0.5*Tr + 0.5*Ta # window temperature for radiation calcs"
   ]
  },
  {
   "cell_type": "code",
   "execution_count": 21,
   "metadata": {},
   "outputs": [
    {
     "data": {
      "text/plain": [
       "(1, 3214)"
      ]
     },
     "execution_count": 21,
     "metadata": {},
     "output_type": "execute_result"
    }
   ],
   "source": [
    "#Ta = np.transpose(Ta)\n",
    "Ta = np.matrix(joined_df2.iloc[:,0].values) # creates np array for ambient temp\n",
    "Tr = np.matrix(joined_df2.iloc[:,1].values) # creates np array for resident temp\n",
    "Tb = np.matrix(joined_df2.iloc[:,2].values) # creates np array for building storage temp\n",
    "Ti = 0.5*Tr + 0.5*Ta # window temperature for radiation calcs\n",
    "Tb.shape"
   ]
  },
  {
   "cell_type": "code",
   "execution_count": 22,
   "metadata": {},
   "outputs": [],
   "source": [
    "x1 = Tb-Tr # var1: conduction between building and the residence\n",
    "x2 = Ta-Tr # var2: conduction between building and the outdoors\n",
    "# x3 =  # var3: conduction with windspeed to account for convection\n",
    "x4 = np.matrix(joined_df2.iloc[:,3].values) # var4: solar radiation (np array)\n",
    "#x5 = \n",
    "x6 = np.power(Ti, 4) # var6 radiation from the window\n",
    "x7 = np.power(Tr, 4) # var7 for radiation\n"
   ]
  },
  {
   "cell_type": "code",
   "execution_count": 23,
   "metadata": {},
   "outputs": [
    {
     "data": {
      "text/plain": [
       "(1, 3214)"
      ]
     },
     "execution_count": 23,
     "metadata": {},
     "output_type": "execute_result"
    }
   ],
   "source": [
    "x1.shape"
   ]
  },
  {
   "cell_type": "code",
   "execution_count": 24,
   "metadata": {},
   "outputs": [
    {
     "data": {
      "text/plain": [
       "(3213, 5)"
      ]
     },
     "execution_count": 24,
     "metadata": {},
     "output_type": "execute_result"
    }
   ],
   "source": [
    "X = np.concatenate((x1.T, x2.T, x4.T, x6.T, x7.T), axis=1) # Combine vars into vars vector X\n",
    "X = np.delete(X,0,0)\n",
    "X = np.multiply(X, 0.5) # multiply by 0.5 hours\n",
    "X.shape"
   ]
  },
  {
   "cell_type": "code",
   "execution_count": 25,
   "metadata": {},
   "outputs": [
    {
     "data": {
      "text/plain": [
       "(1, 3214)"
      ]
     },
     "execution_count": 25,
     "metadata": {},
     "output_type": "execute_result"
    }
   ],
   "source": [
    "T_average = np.matrix(T_average)\n",
    "T_average.shape"
   ]
  },
  {
   "cell_type": "code",
   "execution_count": 26,
   "metadata": {},
   "outputs": [
    {
     "data": {
      "text/plain": [
       "(3213, 1)"
      ]
     },
     "execution_count": 26,
     "metadata": {},
     "output_type": "execute_result"
    }
   ],
   "source": [
    "T_old_mat = np.delete(Tr,len(Tr),1)\n",
    "T_old_mat = np.delete(T_average,len(T_average)-1,1)\n",
    "T_new = np.delete(Tr,0,1)\n",
    "y = (T_new - T_old_mat).T\n",
    "y.shape"
   ]
  },
  {
   "cell_type": "code",
   "execution_count": 27,
   "metadata": {},
   "outputs": [
    {
     "data": {
      "text/html": [
       "<div>\n",
       "<style>\n",
       "    .dataframe thead tr:only-child th {\n",
       "        text-align: right;\n",
       "    }\n",
       "\n",
       "    .dataframe thead th {\n",
       "        text-align: left;\n",
       "    }\n",
       "\n",
       "    .dataframe tbody tr th {\n",
       "        vertical-align: top;\n",
       "    }\n",
       "</style>\n",
       "<table border=\"1\" class=\"dataframe\">\n",
       "  <thead>\n",
       "    <tr style=\"text-align: right;\">\n",
       "      <th></th>\n",
       "      <th>Temp_LGA</th>\n",
       "      <th>Temp_sensor</th>\n",
       "      <th>T_building</th>\n",
       "      <th>Solar</th>\n",
       "    </tr>\n",
       "  </thead>\n",
       "  <tbody>\n",
       "    <tr>\n",
       "      <th>2016-07-10 14:15:00</th>\n",
       "      <td>80.226667</td>\n",
       "      <td>79.7</td>\n",
       "      <td>74.523058</td>\n",
       "      <td>320.166667</td>\n",
       "    </tr>\n",
       "    <tr>\n",
       "      <th>2016-07-10 14:45:00</th>\n",
       "      <td>80.226667</td>\n",
       "      <td>79.7</td>\n",
       "      <td>74.529504</td>\n",
       "      <td>420.000000</td>\n",
       "    </tr>\n",
       "    <tr>\n",
       "      <th>2016-07-10 15:15:00</th>\n",
       "      <td>77.973333</td>\n",
       "      <td>79.7</td>\n",
       "      <td>74.494772</td>\n",
       "      <td>400.800000</td>\n",
       "    </tr>\n",
       "  </tbody>\n",
       "</table>\n",
       "</div>"
      ],
      "text/plain": [
       "                      Temp_LGA  Temp_sensor  T_building       Solar\n",
       "2016-07-10 14:15:00  80.226667         79.7   74.523058  320.166667\n",
       "2016-07-10 14:45:00  80.226667         79.7   74.529504  420.000000\n",
       "2016-07-10 15:15:00  77.973333         79.7   74.494772  400.800000"
      ]
     },
     "execution_count": 27,
     "metadata": {},
     "output_type": "execute_result"
    }
   ],
   "source": [
    "joined_df2[:3]"
   ]
  },
  {
   "cell_type": "code",
   "execution_count": 28,
   "metadata": {},
   "outputs": [
    {
     "name": "stdout",
     "output_type": "stream",
     "text": [
      "(2891, 5) (2891, 1)\n",
      "(322, 5) (322, 1)\n"
     ]
    }
   ],
   "source": [
    "# create training and testing vars\n",
    "testsize = 0.1\n",
    "X_train, X_test, y_train, y_test = train_test_split(X, y, test_size=testsize)\n",
    "print X_train.shape, y_train.shape\n",
    "print X_test.shape, y_test.shape"
   ]
  },
  {
   "cell_type": "code",
   "execution_count": 29,
   "metadata": {},
   "outputs": [
    {
     "name": "stdout",
     "output_type": "stream",
     "text": [
      "[[ -1.61728479e+00   7.46676529e-02  -3.81019736e-04  -4.41611756e-08\n",
      "    3.28101290e-08]]\n"
     ]
    },
    {
     "data": {
      "text/plain": [
       "0.98578671147794805"
      ]
     },
     "execution_count": 29,
     "metadata": {},
     "output_type": "execute_result"
    }
   ],
   "source": [
    "# multivariable linear regression\n",
    "regr = linear_model.LinearRegression()\n",
    "model = regr.fit(X_train, y_train)\n",
    "predictions = regr.predict(X_test)\n",
    "#mult_regr.predict(LGA_data[:20]).shape\n",
    "coefficients = model.coef_\n",
    "print coefficients\n",
    "regr.score(X_test,y_test)\n"
   ]
  },
  {
   "cell_type": "code",
   "execution_count": 34,
   "metadata": {},
   "outputs": [
    {
     "name": "stdout",
     "output_type": "stream",
     "text": [
      "(322, 1)\n",
      "(322, 1)\n"
     ]
    }
   ],
   "source": [
    "print y_test.shape\n",
    "print predictions.shape"
   ]
  },
  {
   "cell_type": "code",
   "execution_count": 35,
   "metadata": {},
   "outputs": [
    {
     "data": {
      "text/plain": [
       "<matplotlib.text.Text at 0x7f60b7942f90>"
      ]
     },
     "execution_count": 35,
     "metadata": {},
     "output_type": "execute_result"
    },
    {
     "data": {
      "image/png": "[encoded data removed]",
      "text/plain": [
       "<matplotlib.figure.Figure at 0x7f60ba5038d0>"
      ]
     },
     "metadata": {},
     "output_type": "display_data"
    }
   ],
   "source": [
    "## The line / model\n",
    "plt.scatter(list(y_test), list(predictions))\n",
    "plt.xlabel('True Values of y')\n",
    "plt.ylabel('Predictions of y')"
   ]
  },
  {
   "cell_type": "code",
   "execution_count": 39,
   "metadata": {},
   "outputs": [
    {
     "data": {
      "text/plain": [
       "0.98578671147794805"
      ]
     },
     "execution_count": 39,
     "metadata": {},
     "output_type": "execute_result"
    }
   ],
   "source": [
    "# multivariable linear regression\n",
    "regr = linear_model.LinearRegression()\n",
    "model = regr.fit(X_train, y_train)\n",
    "predictions = regr.predict(X_test)\n",
    "coefficients = model.coef_\n",
    "regr.score(X_test,y_test)\n",
    "#[k1, k2, k4, k6, k7] = model.coef_[0]"
   ]
  },
  {
   "cell_type": "code",
   "execution_count": 40,
   "metadata": {
    "collapsed": true
   },
   "outputs": [],
   "source": [
    "#temp_3day = temp_sens[0: 144]\n",
    "#find_T_average(temp_3day)\n",
    "T_average = create_Tr_averages(temp_sens)\n"
   ]
  },
  {
   "cell_type": "code",
   "execution_count": 41,
   "metadata": {
    "collapsed": true
   },
   "outputs": [],
   "source": [
    "def apply_model(Tr_now, Ta_now, T_average_now, Tb_now, solar_now, coefficients):\n",
    "    [k1, k2, k4, k6, k7] = coefficients[0]\n",
    "    X1 = Tb_now - Tr_now\n",
    "    X2 = Ta_now - Tr_now\n",
    "    X4 = solar_now\n",
    "    Ti_now = 0.5*Ta_now + 0.5*Tr_now\n",
    "    X6 = Ti_now**4\n",
    "    X7 = Tr_now**4\n",
    "    T_new = T_average_now + k1*X1*0.5 + k2*X2*0.5 + k4*X4*0.5 + k6*X6*0.5 +k7*X7*0.5 # make sure to multiply by delta_t***\n",
    "    return T_new\n",
    "    \n",
    "    "
   ]
  },
  {
   "cell_type": "code",
   "execution_count": 42,
   "metadata": {},
   "outputs": [
    {
     "data": {
      "text/plain": [
       "3070"
      ]
     },
     "execution_count": 42,
     "metadata": {},
     "output_type": "execute_result"
    }
   ],
   "source": [
    "Tr_list = joined_df2['Temp_sensor'].values.tolist()[0:144]\n",
    "Ta_list = joined_df2['Temp_LGA'].values.tolist()[143:] # includes current so there is an overlap point with Tr_list\n",
    "Tr_future_list = joined_df2['Temp_sensor'].values.tolist()[144:]\n",
    "sol_list = joined_df2['Solar'].values.tolist()[143:]\n",
    "len(Tr_future_list)"
   ]
  },
  {
   "cell_type": "code",
   "execution_count": 43,
   "metadata": {
    "collapsed": true
   },
   "outputs": [],
   "source": [
    "temp_sens_array = np.array(joined_df['Temp_sensor'])\n",
    "temp_sens = joined_df['Temp_sensor']\n",
    "\n",
    "def create_Tr_averages(temp_sens):\n",
    "    T_average_list = []\n",
    "    T_average_index = []\n",
    "    dt = pd.DateOffset(days = 3) # 3 days \n",
    "\n",
    "    for j in range(144,len(temp_sens)): \n",
    "        #144 points in the first 3 days (because 72 hours * 2 dp/hr)\n",
    "        Timestamp_j = temp_sens.index[j]\n",
    "        temp_3day = temp_sens[Timestamp_j-dt :Timestamp_j-1]\n",
    "        T_average = find_T_average(temp_3day)\n",
    "        T_average_list.append(T_average)\n",
    "        T_average_index.append(Timestamp_j)\n",
    "    \n",
    "    return pd.Series(T_average_list, index = T_average_index, name = 'T_average')"
   ]
  },
  {
   "cell_type": "code",
   "execution_count": 44,
   "metadata": {
    "collapsed": true
   },
   "outputs": [],
   "source": [
    "def find_T_average(temp_3day):\n",
    "    #Input first three days of the dataframe of indoor temp data...\n",
    "    Tsum = np.sum(np.array(temp_3day))\n",
    "    T_average = Tsum / len(temp_3day)\n",
    "    return T_average"
   ]
  },
  {
   "cell_type": "code",
   "execution_count": 45,
   "metadata": {},
   "outputs": [],
   "source": [
    "def predict_T_new(temp_3day, weight_list, future_sol, future_Ta, coefficients, N):\n",
    "    # temp_3day should include current temp\n",
    "    # future sol and Ta are the vals for the prediction (includes current)\n",
    "    # N is the number of values to be predicted into the future\n",
    "    #Tr_now = temp_3day[len(temp_3day)-1]\n",
    "    predicted_Tr = []\n",
    "    previous_temps = temp_3day.tolist()\n",
    "    #error_list = []\n",
    "    \n",
    "    for i in range(N):\n",
    "        Tr_now = previous_temps[len(previous_temps)-1]\n",
    "        T_average_now = find_T_average(previous_temps)\n",
    "        Tb_now = find_T_building(previous_temps, weight_list)\n",
    "        solar_now = future_sol[i]\n",
    "        Ta_now = future_Ta[i]\n",
    "        predict = apply_model(Tr_now, Ta_now, T_average_now, Tb_now, solar_now, coefficients)\n",
    "        predicted_Tr.append(predict)\n",
    "        previous_temps.pop(0)\n",
    "        previous_temps.append(predict)\n",
    "        \n",
    "        #error = (Tr_future_list[i]-predict)/Tr_future_list[i]\n",
    "        #error_list.append(error)\n",
    "        \n",
    "    return predicted_Tr\n",
    "    "
   ]
  },
  {
   "cell_type": "code",
   "execution_count": 46,
   "metadata": {},
   "outputs": [],
   "source": [
    "dt = pd.DateOffset(days = 3) # 3 days \n",
    "j = 144\n",
    "Timestamp_j = temp_sens.index[j]\n",
    "temp_3day = temp_sens[Timestamp_j-dt :Timestamp_j-1]\n",
    "#temp_3day.index.get_loc(temp_3day.index[0])\n",
    "weight_list = find_exp_weights()\n",
    "future_sol = sol_list\n",
    "future_Ta = Ta_list\n",
    "N = 3070\n",
    "T_new = predict_T_new(temp_3day, weight_list, future_sol, future_Ta, coefficients, N)\n",
    "#np.asarray(T_new).shape"
   ]
  },
  {
   "cell_type": "code",
   "execution_count": 47,
   "metadata": {},
   "outputs": [
    {
     "data": {
      "text/plain": [
       "<matplotlib.text.Text at 0x7f60ba51b390>"
      ]
     },
     "execution_count": 47,
     "metadata": {},
     "output_type": "execute_result"
    },
    {
     "data": {
      "image/png": "[encoded data removed]",
      "text/plain": [
       "<matplotlib.figure.Figure at 0x7f60b7941550>"
      ]
     },
     "metadata": {},
     "output_type": "display_data"
    }
   ],
   "source": [
    "## The line / model\n",
    "plt.scatter(Tr_future_list, T_new)\n",
    "plt.xlabel('Indoor temperature predictions')\n",
    "plt.ylabel('True indoor temp')"
   ]
  },
  {
   "cell_type": "code",
   "execution_count": 48,
   "metadata": {},
   "outputs": [
    {
     "data": {
      "image/png": "[encoded data removed]",
      "text/plain": [
       "<matplotlib.figure.Figure at 0x7f60b7875b90>"
      ]
     },
     "metadata": {},
     "output_type": "display_data"
    }
   ],
   "source": [
    "t = range(3070)\n",
    "fig = plt.figure()\n",
    "ax1 = fig.add_subplot(111)\n",
    "\n",
    "ax1.scatter(t, Tr_future_list, s=10, c='r', marker=\"o\", label='Actual')\n",
    "ax1.scatter(t,T_new, s=10, c='g', marker=\"^\", label='prediction')\n",
    "plt.legend(loc='upper left');\n",
    "plt.show()"
   ]
  },
  {
   "cell_type": "code",
   "execution_count": 49,
   "metadata": {},
   "outputs": [
    {
     "data": {
      "text/plain": [
       "-29.574591989150026"
      ]
     },
     "execution_count": 49,
     "metadata": {},
     "output_type": "execute_result"
    }
   ],
   "source": [
    "r2_score(Tr_future_list, T_new)"
   ]
  },
  {
   "cell_type": "code",
   "execution_count": 42,
   "metadata": {},
   "outputs": [
    {
     "data": {
      "text/html": [
       "<div>\n",
       "<table border=\"1\" class=\"dataframe\">\n",
       "  <thead>\n",
       "    <tr style=\"text-align: right;\">\n",
       "      <th></th>\n",
       "      <th>Temp_LGA</th>\n",
       "      <th>Solar</th>\n",
       "    </tr>\n",
       "  </thead>\n",
       "  <tbody>\n",
       "    <tr>\n",
       "      <th>2016-07-17 06:45:00</th>\n",
       "      <td>78.820000</td>\n",
       "      <td>86.000000</td>\n",
       "    </tr>\n",
       "    <tr>\n",
       "      <th>2016-07-17 07:15:00</th>\n",
       "      <td>78.714286</td>\n",
       "      <td>84.200000</td>\n",
       "    </tr>\n",
       "    <tr>\n",
       "      <th>2016-07-17 07:45:00</th>\n",
       "      <td>78.820000</td>\n",
       "      <td>146.833333</td>\n",
       "    </tr>\n",
       "  </tbody>\n",
       "</table>\n",
       "</div>"
      ],
      "text/plain": [
       "                      Temp_LGA       Solar\n",
       "2016-07-17 06:45:00  78.820000   86.000000\n",
       "2016-07-17 07:15:00  78.714286   84.200000\n",
       "2016-07-17 07:45:00  78.820000  146.833333"
      ]
     },
     "execution_count": 42,
     "metadata": {},
     "output_type": "execute_result"
    }
   ],
   "source": [
    "given_vars_df = joined_df2.drop(['Temp_sensor','T_building'], axis = 1)\n",
    "given_test_df = given_vars_df[int(round(testsize*3214)):]\n",
    "\n",
    "given_test_df[:3]"
   ]
  },
  {
   "cell_type": "code",
   "execution_count": 43,
   "metadata": {},
   "outputs": [
    {
     "data": {
      "text/plain": [
       "0.98677515115184899"
      ]
     },
     "execution_count": 43,
     "metadata": {},
     "output_type": "execute_result"
    }
   ],
   "source": [
    "# TRYING WITHOUT THE CHEATING!\n",
    "# multivariable linear regression\n",
    "regr = linear_model.LinearRegression()\n",
    "model = regr.fit(X_train, y_train)\n",
    "predictions = regr.predict(X_test)\n",
    "#mult_regr.predict(LGA_data[:20]).shape\n",
    "#coefficients = regr_fit.coef_\n",
    "regr.score(X_test,y_test)"
   ]
  },
  {
   "cell_type": "code",
   "execution_count": 44,
   "metadata": {},
   "outputs": [
    {
     "data": {
      "text/plain": [
       "321"
      ]
     },
     "execution_count": 44,
     "metadata": {},
     "output_type": "execute_result"
    }
   ],
   "source": [
    "int(round(testsize*3214))"
   ]
  },
  {
   "cell_type": "code",
   "execution_count": 45,
   "metadata": {},
   "outputs": [
    {
     "data": {
      "text/plain": [
       "<matplotlib.text.Text at 0x118c50b50>"
      ]
     },
     "execution_count": 45,
     "metadata": {},
     "output_type": "execute_result"
    },
    {
     "data": {
      "image/png": "[encoded data removed]",
      "text/plain": [
       "<matplotlib.figure.Figure at 0x118d66110>"
      ]
     },
     "metadata": {},
     "output_type": "display_data"
    }
   ],
   "source": [
    "## The line / model\n",
    "plt.scatter(y_test, predictions)\n",
    "plt.xlabel('True Values of y')\n",
    "plt.ylabel('Predictions of y')"
   ]
  },
  {
   "cell_type": "code",
   "execution_count": 46,
   "metadata": {},
   "outputs": [
    {
     "ename": "NameError",
     "evalue": "name 'TempLGA' is not defined",
     "output_type": "error",
     "traceback": [
      "\u001b[0;31m---------------------------------------------------------------------------\u001b[0m",
      "\u001b[0;31mNameError\u001b[0m                                 Traceback (most recent call last)",
      "\u001b[0;32m<ipython-input-46-359f1d50e02f>\u001b[0m in \u001b[0;36m<module>\u001b[0;34m()\u001b[0m\n\u001b[1;32m      4\u001b[0m \u001b[0;34m\u001b[0m\u001b[0m\n\u001b[1;32m      5\u001b[0m \u001b[0mregr\u001b[0m \u001b[0;34m=\u001b[0m \u001b[0mlinear_model\u001b[0m\u001b[0;34m.\u001b[0m\u001b[0mLinearRegression\u001b[0m\u001b[0;34m(\u001b[0m\u001b[0;34m)\u001b[0m\u001b[0;34m\u001b[0m\u001b[0m\n\u001b[0;32m----> 6\u001b[0;31m \u001b[0mregr\u001b[0m\u001b[0;34m.\u001b[0m\u001b[0mfit\u001b[0m\u001b[0;34m(\u001b[0m\u001b[0mTempLGA\u001b[0m\u001b[0;34m,\u001b[0m \u001b[0mTempsensor\u001b[0m\u001b[0;34m)\u001b[0m\u001b[0;34m\u001b[0m\u001b[0m\n\u001b[0m\u001b[1;32m      7\u001b[0m \u001b[0;31m#regr.score(X,y) # Why?!:ValueError: shapes (765,6) and (1,1) not aligned: 6 (dim 1) != 1 (dim 0)\u001b[0m\u001b[0;34m\u001b[0m\u001b[0;34m\u001b[0m\u001b[0m\n\u001b[1;32m      8\u001b[0m \u001b[0;34m\u001b[0m\u001b[0m\n",
      "\u001b[0;31mNameError\u001b[0m: name 'TempLGA' is not defined"
     ]
    }
   ],
   "source": [
    "# Linear regression using linear_model from sklearn \n",
    "#TempLGA = np.transpose(np.matrix(joined_df['Temp_LGA']))\n",
    "#Tempsensor = np.transpose(np.matrix(joined_df['Temp_sensor']))\n",
    "\n",
    "regr = linear_model.LinearRegression()\n",
    "regr.fit(TempLGA, Tempsensor)\n",
    "#regr.score(X,y) # Why?!:ValueError: shapes (765,6) and (1,1) not aligned: 6 (dim 1) != 1 (dim 0) \n",
    "\n",
    "#z = polyfit(TempLGA, Tempsensor, 4) # polyfit for fitting\n",
    "#p = np.poly1d(z) #polynomial of fit"
   ]
  },
  {
   "cell_type": "code",
   "execution_count": null,
   "metadata": {
    "collapsed": true
   },
   "outputs": [],
   "source": [
    "TempLGA = np.transpose(np.matrix(joined_df['Temp_LGA']))\n",
    "Tempsensor = np.transpose(np.matrix(joined_df['Temp_sensor']))\n"
   ]
  },
  {
   "cell_type": "code",
   "execution_count": null,
   "metadata": {},
   "outputs": [],
   "source": [
    "temp_sens.index[0]"
   ]
  },
  {
   "cell_type": "code",
   "execution_count": null,
   "metadata": {},
   "outputs": [],
   "source": [
    "#Plot all data wrt time\n",
    "fig_size = np.array(mpl.rcParams['figure.figsize']) # size of plot\n",
    "fig_size *=2 # increase size of plot\n",
    "#joined_df.plot(figsize = fig_size) # plot data"
   ]
  },
  {
   "cell_type": "code",
   "execution_count": null,
   "metadata": {},
   "outputs": [],
   "source": [
    "plt.plot()\n",
    "plt.plot(TempLGA, Tempsensor, '.', TempLGA, regr.predict(TempLGA))\n",
    "#plt.plot(TempLGA, Tempsensor, '.', TempLGA, p(TempLGA), '--')\n"
   ]
  },
  {
   "cell_type": "code",
   "execution_count": null,
   "metadata": {},
   "outputs": [],
   "source": [
    "TempLGA_arr = np.array(joined_df['Temp_LGA'][:30])\n",
    "Tempsensor_arr = np.array(joined_df['Temp_sensor'][:30])\n",
    "pd.rolling_corr(TempLGA_arr, Tempsensor_arr, 10).plot()"
   ]
  },
  {
   "cell_type": "markdown",
   "metadata": {},
   "source": []
  },
  {
   "cell_type": "code",
   "execution_count": null,
   "metadata": {
    "collapsed": true
   },
   "outputs": [],
   "source": []
  }
 ],
 "metadata": {
  "kernelspec": {
   "display_name": "Python 2",
   "language": "python",
   "name": "python2"
  },
  "language_info": {
   "codemirror_mode": {
    "name": "ipython",
    "version": 2
   },
   "file_extension": ".py",
   "mimetype": "text/x-python",
   "name": "python",
   "nbconvert_exporter": "python",
   "pygments_lexer": "ipython2",
   "version": "2.7.13"
  }
 },
 "nbformat": 4,
 "nbformat_minor": 1
}
