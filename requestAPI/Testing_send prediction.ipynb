{
 "cells": [
  {
   "cell_type": "code",
   "execution_count": 34,
   "metadata": {
    "collapsed": true
   },
   "outputs": [],
   "source": [
    "#send random prediction to the server\n",
    "#make send fake temperatures to the server\n",
    "\n",
    "import requestAPI\n",
    "import random\n",
    "from time import sleep\n",
    "import datetime as dt\n",
    "import math"
   ]
  },
  {
   "cell_type": "code",
   "execution_count": 35,
   "metadata": {
    "collapsed": true
   },
   "outputs": [],
   "source": [
    "#make connection object \n",
    "connection = requestAPI.ECWConnection(host='https://ecollectweb.herokuapp.com')"
   ]
  },
  {
   "cell_type": "code",
   "execution_count": 36,
   "metadata": {
    "collapsed": true
   },
   "outputs": [],
   "source": [
    "x=0\n",
    "def make_random_prediction():\n",
    "    global x\n",
    "    \n",
    "    t = dt.datetime.now(tz=requestAPI.utc)\n",
    "    d = dt.timedelta(seconds=5)\n",
    "    delta = 0.25\n",
    "    prediction = []\n",
    "    \n",
    "    for i in range(6):\n",
    "        prediction.append({\"datetime\": str(t),\"temp\": math.sin(x)*20 + 70})\n",
    "        t+= d#increment time by 5 seconds\n",
    "        x+=delta\n",
    "    \n",
    "    return prediction"
   ]
  },
  {
   "cell_type": "code",
   "execution_count": null,
   "metadata": {},
   "outputs": [
    {
     "name": "stdout",
     "output_type": "stream",
     "text": [
      "{u'status': u'succeeded'}\n",
      "{u'status': u'succeeded'}\n",
      "{u'status': u'succeeded'}\n",
      "{u'status': u'succeeded'}\n",
      "{u'status': u'succeeded'}\n"
     ]
    }
   ],
   "source": [
    "#make prediction\n",
    "while True:\n",
    "    prediction = make_random_prediction()\n",
    "    res = connection.updatePrediction(prediction=prediction)\n",
    "    print res\n",
    "    sleep(6*2)"
   ]
  },
  {
   "cell_type": "code",
   "execution_count": null,
   "metadata": {
    "collapsed": true
   },
   "outputs": [],
   "source": []
  }
 ],
 "metadata": {
  "kernelspec": {
   "display_name": "Python 2",
   "language": "python",
   "name": "python2"
  },
  "language_info": {
   "codemirror_mode": {
    "name": "ipython",
    "version": 2
   },
   "file_extension": ".py",
   "mimetype": "text/x-python",
   "name": "python",
   "nbconvert_exporter": "python",
   "pygments_lexer": "ipython2",
   "version": "2.7.13"
  }
 },
 "nbformat": 4,
 "nbformat_minor": 2
}
