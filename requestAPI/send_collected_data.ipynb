{
 "cells": [
  {
   "cell_type": "code",
   "execution_count": 1,
   "metadata": {
    "collapsed": true
   },
   "outputs": [],
   "source": [
    "from urllib2 import urlopen\n",
    "from urllib import urlencode\n",
    "import json\n",
    "from datetime import datetime as dt,tzinfo,timedelta"
   ]
  },
  {
   "cell_type": "code",
   "execution_count": 2,
   "metadata": {
    "collapsed": true
   },
   "outputs": [],
   "source": [
    "class UTC(tzinfo):\n",
    "    \"\"\"UTC\"\"\"\n",
    "\n",
    "    def utcoffset(self, dt):\n",
    "        return timedelta(0)\n",
    "\n",
    "    def tzname(self, dt):\n",
    "        return \"UTC\"\n",
    "\n",
    "    def dst(self, dt):\n",
    "        return timedelta(0)\n",
    "\n",
    "utc = UTC()"
   ]
  },
  {
   "cell_type": "code",
   "execution_count": 3,
   "metadata": {
    "collapsed": true
   },
   "outputs": [],
   "source": [
    "class ECWConnection():\n",
    "    def __init__(self,host):\n",
    "        self.__host__ = host\n",
    "\n",
    "    #send data to server\n",
    "    def sendData(self,sensorId,datetime,temp,hum,press):\n",
    "        params   = urlencode({'temp':temp,'hum':hum,'press':press,'datetime':datetime,'sensorId':sensorId})\n",
    "        response = urlopen('%s/newentry/insert?%s' % (self.__host__,params))\n",
    "        return json.load(response)\n",
    "    \n",
    "    #prediction: json string of the form {'timestamp':temperature_value, ... }\n",
    "    def updatePrediction(self,prediction):\n",
    "        params   = urlencode({'prediction':prediction})\n",
    "        response = urlopen('%s/newentry/insertPrediction?%s' % (self.__host__,params))\n",
    "        return json.load(response)\n",
    "    \n",
    "    def getLatest(self):\n",
    "        response = urlopen('%s/getreport/' % self.__host__)\n",
    "        return json.load(response)"
   ]
  },
  {
   "cell_type": "code",
   "execution_count": 4,
   "metadata": {
    "collapsed": true
   },
   "outputs": [],
   "source": [
    "#connection = ECWConnection(host='http://127.0.0.1:8000')#django local\n",
    "connection = ECWConnection(host=' http://0.0.0.0:5000')#herokulocal\n",
    "#connection = ECWConnection(host='https://ecollectweb.herokuapp.com')#heroku remote"
   ]
  },
  {
   "cell_type": "code",
   "execution_count": 31,
   "metadata": {
    "collapsed": true
   },
   "outputs": [],
   "source": [
    "res = connection.sendData(sensorId=1,datetime=dt.now(tz=utc),temp=34,hum=50,press=1000)"
   ]
  },
  {
   "cell_type": "code",
   "execution_count": 32,
   "metadata": {},
   "outputs": [
    {
     "data": {
      "text/plain": [
       "{u'status': u'succeeded'}"
      ]
     },
     "execution_count": 32,
     "metadata": {},
     "output_type": "execute_result"
    }
   ],
   "source": [
    "res"
   ]
  },
  {
   "cell_type": "code",
   "execution_count": 30,
   "metadata": {},
   "outputs": [
    {
     "data": {
      "text/plain": [
       "{u'status': u'succeeded'}"
      ]
     },
     "execution_count": 30,
     "metadata": {},
     "output_type": "execute_result"
    }
   ],
   "source": [
    "#send prediction data to server\n",
    "res = connection.updatePrediction(prediction={\"10\":61,\"11\":65,\"12\":71,\"1\":75})\n",
    "res"
   ]
  },
  {
   "cell_type": "code",
   "execution_count": 33,
   "metadata": {},
   "outputs": [
    {
     "data": {
      "text/plain": [
       "{u'latest_temp': u'34.00',\n",
       " u'prediction': {u'1': 75, u'10': 61, u'11': 65, u'12': 71}}"
      ]
     },
     "execution_count": 33,
     "metadata": {},
     "output_type": "execute_result"
    }
   ],
   "source": [
    "#get data from server\n",
    "res = connection.getLatest()\n",
    "res"
   ]
  },
  {
   "cell_type": "code",
   "execution_count": null,
   "metadata": {
    "collapsed": true
   },
   "outputs": [],
   "source": []
  }
 ],
 "metadata": {
  "kernelspec": {
   "display_name": "Python 2",
   "language": "python",
   "name": "python2"
  },
  "language_info": {
   "codemirror_mode": {
    "name": "ipython",
    "version": 2
   },
   "file_extension": ".py",
   "mimetype": "text/x-python",
   "name": "python",
   "nbconvert_exporter": "python",
   "pygments_lexer": "ipython2",
   "version": "2.7.13"
  }
 },
 "nbformat": 4,
 "nbformat_minor": 2
}
