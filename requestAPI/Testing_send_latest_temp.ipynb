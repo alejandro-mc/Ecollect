{
 "cells": [
  {
   "cell_type": "code",
   "execution_count": 44,
   "metadata": {},
   "outputs": [],
   "source": [
    "#make send fake temperatures to the server\n",
    "\n",
    "import requestAPI\n",
    "import random\n",
    "from time import sleep\n",
    "import datetime as dt\n",
    "import math"
   ]
  },
  {
   "cell_type": "code",
   "execution_count": 45,
   "metadata": {},
   "outputs": [],
   "source": [
    "#make connection object \n",
    "connection = requestAPI.ECWConnection(host='https://ecollectweb.herokuapp.com')"
   ]
  },
  {
   "cell_type": "code",
   "execution_count": null,
   "metadata": {},
   "outputs": [
    {
     "name": "stdout",
     "output_type": "stream",
     "text": [
      "{u'status': u'succeeded'}\n",
      "{u'status': u'succeeded'}\n",
      "{u'status': u'succeeded'}\n",
      "{u'status': u'succeeded'}\n",
      "{u'status': u'succeeded'}\n",
      "{u'status': u'succeeded'}\n",
      "{u'status': u'succeeded'}\n",
      "{u'status': u'succeeded'}\n",
      "{u'status': u'succeeded'}\n",
      "{u'status': u'succeeded'}\n",
      "{u'status': u'succeeded'}\n",
      "{u'status': u'succeeded'}\n",
      "{u'status': u'succeeded'}\n",
      "{u'status': u'succeeded'}\n",
      "{u'status': u'succeeded'}\n",
      "{u'status': u'succeeded'}\n",
      "{u'status': u'succeeded'}\n",
      "{u'status': u'succeeded'}\n",
      "{u'status': u'succeeded'}\n",
      "{u'status': u'succeeded'}\n",
      "{u'status': u'succeeded'}\n",
      "{u'status': u'succeeded'}\n",
      "{u'status': u'succeeded'}\n",
      "{u'status': u'succeeded'}\n",
      "{u'status': u'succeeded'}\n",
      "{u'status': u'succeeded'}\n",
      "{u'status': u'succeeded'}\n",
      "{u'status': u'succeeded'}\n",
      "{u'status': u'succeeded'}\n",
      "{u'status': u'succeeded'}\n",
      "{u'status': u'succeeded'}\n",
      "{u'status': u'succeeded'}\n",
      "{u'status': u'succeeded'}\n",
      "{u'status': u'succeeded'}\n",
      "{u'status': u'succeeded'}\n"
     ]
    }
   ],
   "source": [
    "#send random data\n",
    "\n",
    "delta = 0.25\n",
    "hum = 60\n",
    "temp = 60\n",
    "press = 1000\n",
    "x = 0\n",
    "while True:\n",
    "    temp = math.sin(x)*20 + 70\n",
    "\n",
    "    res = connection.sendData(sensorId=1,datetime= dt.datetime.now(tz=requestAPI.utc),temp=temp,hum=hum,press=press)\n",
    "    print res\n",
    "    x += delta\n",
    "    sleep(2)"
   ]
  },
  {
   "cell_type": "code",
   "execution_count": 11,
   "metadata": {},
   "outputs": [
    {
     "data": {
      "text/plain": [
       "datetime.datetime(2017, 8, 10, 2, 0, 57, 237671, tzinfo=<requestAPI.UTC object at 0x7f0d9f84cf50>)"
      ]
     },
     "execution_count": 11,
     "metadata": {},
     "output_type": "execute_result"
    }
   ],
   "source": []
  },
  {
   "cell_type": "code",
   "execution_count": 28,
   "metadata": {},
   "outputs": [
    {
     "data": {
      "text/plain": [
       "-0.5910234438753339"
      ]
     },
     "execution_count": 28,
     "metadata": {},
     "output_type": "execute_result"
    }
   ],
   "source": []
  },
  {
   "cell_type": "code",
   "execution_count": 29,
   "metadata": {
    "collapsed": true
   },
   "outputs": [],
   "source": []
  },
  {
   "cell_type": "code",
   "execution_count": null,
   "metadata": {
    "collapsed": true
   },
   "outputs": [],
   "source": []
  }
 ],
 "metadata": {
  "kernelspec": {
   "display_name": "Python 2",
   "language": "python",
   "name": "python2"
  },
  "language_info": {
   "codemirror_mode": {
    "name": "ipython",
    "version": 2
   },
   "file_extension": ".py",
   "mimetype": "text/x-python",
   "name": "python",
   "nbconvert_exporter": "python",
   "pygments_lexer": "ipython2",
   "version": "2.7.13"
  }
 },
 "nbformat": 4,
 "nbformat_minor": 2
}
