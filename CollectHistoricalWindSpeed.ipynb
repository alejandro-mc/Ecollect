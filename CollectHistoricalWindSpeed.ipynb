{
 "cells": [
  {
   "cell_type": "code",
   "execution_count": 26,
   "metadata": {
    "collapsed": false
   },
   "outputs": [],
   "source": [
    "import os\n",
    "import datetime as dt\n",
    "import time\n",
    "import re\n",
    "\n",
    "startdate = dt.date(2016,7,7)\n",
    "enddate   = dt.date(2016,9,15)\n",
    "\n",
    "r = re.compile('[0-9]+')#regular expression to extract integer string\n",
    "d = re.compile('>[ ]*([0-9]+[.]?[0-9]*)[ ]*<')\n",
    "t = re.compile('[0-9]{1,2}:[0-9]{2} [AP]M')#regular expression to extract time string\n",
    "\n",
    "curdate = startdate\n",
    "#datestr = 20160707\n",
    "\n",
    "while curdate <= enddate:\n",
    "    \n",
    "    windspeeds = []\n",
    "    times     = []\n",
    "    \n",
    "    datestr = str(curdate).replace('-','')\n",
    "    filename = datestr + '.html'\n",
    "    \n",
    "    #get the wind speed values\n",
    "    lines_after_heading = 40 #initilize to some value larger than 5 \n",
    "    with open(filename,'r') as html:\n",
    "        #investigating the html that we found that we can look for values on aline per line basis\n",
    "        for line in html.readlines():\n",
    "            \n",
    "            lines_after_heading += 1\n",
    "            \n",
    "            #get wind speed\n",
    "            #wind speed is the 5th line from the deading-cell\n",
    "            if lines_after_heading == 5:\n",
    "                if 'data-cell' in line and '<span class=\"table-unit\">mph</span>' in line:\n",
    "\n",
    "                    #add value to wind speed list\n",
    "                    windspeeds.append(d.search(line).group(1))\n",
    "                    continue\n",
    "            \n",
    "            #or\n",
    "            #get the times\n",
    "            if 'heading-cell' in line and t.search(line) != None:\n",
    "                \n",
    "                times.append(t.search(line).group())\n",
    "                lines_after_heading = 0\n",
    "                continue\n",
    "    \n",
    "    #check that times and solarradiation have the same length\n",
    "    if len(windspeeds) != len(times):\n",
    "        print('times and radiation records have diffrent sizes for: ',filename,' ...skipping...')\n",
    "        \n",
    "        continue\n",
    "\n",
    "    #if psizes match we assume the data was extracted correctly and write it to file\n",
    "    with open('histwind','a') as out:\n",
    "        for time,windspeed in zip(times,windspeeds):\n",
    "            out.write(str(curdate) + ' ' + time + ',' + windspeed + '\\n')\n",
    "    \n",
    "    #increment date by one day\n",
    "    curdate += dt.timedelta(days=1)"
   ]
  },
  {
   "cell_type": "code",
   "execution_count": null,
   "metadata": {
    "collapsed": true
   },
   "outputs": [],
   "source": []
  }
 ],
 "metadata": {
  "kernelspec": {
   "display_name": "Python 3",
   "language": "python",
   "name": "python3"
  },
  "language_info": {
   "codemirror_mode": {
    "name": "ipython",
    "version": 3
   },
   "file_extension": ".py",
   "mimetype": "text/x-python",
   "name": "python",
   "nbconvert_exporter": "python",
   "pygments_lexer": "ipython3",
   "version": "3.5.2"
  }
 },
 "nbformat": 4,
 "nbformat_minor": 0
}
